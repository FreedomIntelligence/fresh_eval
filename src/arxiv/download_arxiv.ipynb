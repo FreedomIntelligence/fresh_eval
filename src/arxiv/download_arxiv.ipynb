{
 "cells": [
  {
   "cell_type": "code",
   "execution_count": 1,
   "id": "2af52bb4-9151-4681-bfc2-253efcc38060",
   "metadata": {
    "tags": []
   },
   "outputs": [],
   "source": [
    "from bs4 import BeautifulSoup\n",
    "import requests\n",
    "import os\n",
    "from tqdm.notebook import tqdm"
   ]
  },
  {
   "cell_type": "code",
   "execution_count": 2,
   "id": "96ae5d89-b340-439a-a1df-be27f4781135",
   "metadata": {
    "tags": []
   },
   "outputs": [],
   "source": [
    "BEGIN_DATE = '2023-12-10'\n",
    "END_DATE = '2023-12-14'\n",
    "PAGE_SIZE = '100'\n",
    "START = '0'\n",
    "PAGE = 11\n",
    "TYPE = '&classification-computer_science=y'\n",
    "# TYPE = '&classification-mathematics=y'\n",
    "TYPE = '&classification-physics=y'\n",
    "\n",
    "PATH = 'arxiv_pdfs_phi'"
   ]
  },
  {
   "cell_type": "code",
   "execution_count": 3,
   "id": "e622e2e5-8642-43cf-aed3-ccfd5ef57ce7",
   "metadata": {},
   "outputs": [
    {
     "name": "stdout",
     "output_type": "stream",
     "text": [
      "url:https://arxiv.org/search/advanced?advanced=1&terms-0-operator=AND&terms-0-term=&terms-0-field=title&classification-physics=y&classification-include_cross_list=exclude&date-year=&date-filter_by=date_range&date-from_date=2023-12-10&date-to_date=2023-12-14&date-date_type=submitted_date_first&abstracts=hide&size=100&order=-announced_date_first&start=0\n",
      "start:0 success:100\n",
      "url:https://arxiv.org/search/advanced?advanced=1&terms-0-operator=AND&terms-0-term=&terms-0-field=title&classification-physics=y&classification-include_cross_list=exclude&date-year=&date-filter_by=date_range&date-from_date=2023-12-10&date-to_date=2023-12-14&date-date_type=submitted_date_first&abstracts=hide&size=100&order=-announced_date_first&start=100\n",
      "start:100 success:99\n",
      "url:https://arxiv.org/search/advanced?advanced=1&terms-0-operator=AND&terms-0-term=&terms-0-field=title&classification-physics=y&classification-include_cross_list=exclude&date-year=&date-filter_by=date_range&date-from_date=2023-12-10&date-to_date=2023-12-14&date-date_type=submitted_date_first&abstracts=hide&size=100&order=-announced_date_first&start=200\n",
      "start:200 success:100\n",
      "url:https://arxiv.org/search/advanced?advanced=1&terms-0-operator=AND&terms-0-term=&terms-0-field=title&classification-physics=y&classification-include_cross_list=exclude&date-year=&date-filter_by=date_range&date-from_date=2023-12-10&date-to_date=2023-12-14&date-date_type=submitted_date_first&abstracts=hide&size=100&order=-announced_date_first&start=300\n",
      "start:300 success:99\n",
      "url:https://arxiv.org/search/advanced?advanced=1&terms-0-operator=AND&terms-0-term=&terms-0-field=title&classification-physics=y&classification-include_cross_list=exclude&date-year=&date-filter_by=date_range&date-from_date=2023-12-10&date-to_date=2023-12-14&date-date_type=submitted_date_first&abstracts=hide&size=100&order=-announced_date_first&start=400\n",
      "start:400 success:100\n",
      "total:498\n"
     ]
    }
   ],
   "source": [
    "path_list = []\n",
    "\n",
    "for START in [str(i * int(PAGE_SIZE)) for i in range(PAGE)]:\n",
    "    \n",
    "    url = f'https://arxiv.org/search/advanced?advanced=1&terms-0-operator=AND&terms-0-term=&terms-0-field=title{TYPE}&classification-include_cross_list=exclude&date-year=&date-filter_by=date_range&date-from_date={BEGIN_DATE}&date-to_date={END_DATE}&date-date_type=submitted_date_first&abstracts=hide&size={PAGE_SIZE}&order=-announced_date_first&start={START}'\n",
    "    print(f'url:{url}')\n",
    "\n",
    "    response = requests.get(url)\n",
    "    soup = BeautifulSoup(response.content, 'html.parser')\n",
    "    papers = soup.find_all('li', class_='arxiv-result')\n",
    "\n",
    "    pdf_links = [paper.find('a', string='pdf')['href'] for paper in papers if paper.find('a', string='pdf')]\n",
    "\n",
    "    print(f\"start:{START} success:{len(pdf_links)}\")\n",
    "    \n",
    "    path_list += pdf_links\n",
    "    \n",
    "    if len(pdf_links) == 0:\n",
    "        break\n",
    "\n",
    "print(f'total:{len(path_list)}')"
   ]
  },
  {
   "cell_type": "code",
   "execution_count": null,
   "id": "f98b4432-cc62-4619-9c80-ea83cd1dd0e1",
   "metadata": {},
   "outputs": [
    {
     "data": {
      "application/vnd.jupyter.widget-view+json": {
       "model_id": "fa6eac312d504ff98aacec44a05afe1a",
       "version_major": 2,
       "version_minor": 0
      },
      "text/plain": [
       "downloading:   0%|          | 0/498 [00:00<?, ?it/s]"
      ]
     },
     "metadata": {},
     "output_type": "display_data"
    }
   ],
   "source": [
    "import requests\n",
    "from requests.exceptions import RequestException\n",
    "from concurrent.futures import ThreadPoolExecutor, as_completed\n",
    "from tqdm.notebook import tqdm\n",
    "import time\n",
    "import threading\n",
    "\n",
    "def download_pdf(pdf_url, path, total_size, max_retries=3, timeout=10, update_progress=None):\n",
    "    pdf_name = pdf_url.split('/')[-1]\n",
    "    file_path = os.path.join(path, f'{pdf_name}.pdf')\n",
    "\n",
    "    attempts = 0\n",
    "    while attempts < max_retries:\n",
    "        try:\n",
    "            with requests.get(pdf_url, stream=True, timeout=timeout) as r:\n",
    "                r.raise_for_status()\n",
    "                with open(file_path, 'wb') as f:\n",
    "                    for chunk in r.iter_content(chunk_size=8192):\n",
    "                        f.write(chunk)\n",
    "            if update_progress:\n",
    "                update_progress()\n",
    "            return True\n",
    "        except RequestException as e:\n",
    "            attempts += 1\n",
    "            time.sleep(1)\n",
    "            if attempts == max_retries:\n",
    "                if update_progress:\n",
    "                    update_progress()\n",
    "                return False\n",
    "\n",
    "def progress_monitor(total_tasks):\n",
    "    progress = tqdm(total=total_tasks, desc=\"downloading\", leave=True)\n",
    "    while not progress_monitor.finished:\n",
    "        progress.n = progress_monitor.completed_tasks\n",
    "        progress.refresh()\n",
    "        time.sleep(0.5)\n",
    "    progress.n = progress_monitor.completed_tasks\n",
    "    progress.refresh()\n",
    "    progress.close()\n",
    "\n",
    "def download_pdfs_concurrently(pdf_links, path, num_threads=10):\n",
    "    os.makedirs(path, exist_ok=True)\n",
    "    progress_monitor.completed_tasks = 0\n",
    "    progress_monitor.finished = False\n",
    "\n",
    "    def update_progress():\n",
    "        progress_monitor.completed_tasks += 1\n",
    "\n",
    "    with ThreadPoolExecutor(max_workers=num_threads) as executor:\n",
    "        futures = [executor.submit(download_pdf, url, path, 0, update_progress=update_progress) for url in pdf_links]\n",
    "        \n",
    "        monitor_thread = threading.Thread(target=progress_monitor, args=(len(pdf_links),))\n",
    "        monitor_thread.start()\n",
    "\n",
    "        for future in as_completed(futures):\n",
    "            pass\n",
    "\n",
    "    progress_monitor.finished = True\n",
    "    monitor_thread.join()\n",
    "    \n",
    "\n",
    "download_pdfs_concurrently(path_list, PATH)\n"
   ]
  }
 ],
 "metadata": {
  "kernelspec": {
   "display_name": "Python 3 (ipykernel)",
   "language": "python",
   "name": "python3"
  },
  "language_info": {
   "codemirror_mode": {
    "name": "ipython",
    "version": 3
   },
   "file_extension": ".py",
   "mimetype": "text/x-python",
   "name": "python",
   "nbconvert_exporter": "python",
   "pygments_lexer": "ipython3",
   "version": "3.9.13"
  }
 },
 "nbformat": 4,
 "nbformat_minor": 5
}
