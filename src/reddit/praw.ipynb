{
 "cells": [
  {
   "cell_type": "code",
   "execution_count": 1,
   "metadata": {},
   "outputs": [],
   "source": [
    "# [RedditCrawler_Python/main.py at master · AlihanFemi/RedditCrawler_Python](https://github.com/AlihanFemi/RedditCrawler_Python/blob/master/main.py)\n",
    "import praw\n",
    "\n",
    "\n",
    "reddit = praw.Reddit(\n",
    "    client_id=\"deImkPevl0FGZWg9UiY7Vw\",\n",
    "    client_secret=\"OjVaUP0TdBWUHEZmmDd9GWSzNH_1fA\",\n",
    "    user_agent=\"RedditCrawler by u/ShadoWJackson\"\n",
    ")\n",
    "\n",
    "subreddit = reddit.subreddit(\"all\")\n"
   ]
  },
  {
   "cell_type": "code",
   "execution_count": 3,
   "metadata": {},
   "outputs": [
    {
     "name": "stdout",
     "output_type": "stream",
     "text": [
      "https://www.reddit.com/r/Sparkdriver/comments/18nkiav/tip_bait/ not a reddit link\n",
      "https://www.reddit.com/r/virtualreality/comments/18nkiae/imo_meta_and_other_devices_should_absolute/ not a reddit link\n",
      "https://www.reddit.com/r/bathandbodyworks/comments/18nkiac/is_an_employee_buying_gift_cards_at_a_different/ not a reddit link\n",
      "https://www.reddit.com/r/uklaw/comments/18nkia9/help_choosing_a_university_to_study_law/ not a reddit link\n"
     ]
    }
   ],
   "source": [
    "posts = subreddit.new(limit=10) \n",
    "\n",
    "\n",
    "with open(\"Reddit_data_all.txt\", \"a\") as f:\n",
    "    for post in posts:\n",
    "        if not  '/www.reddit.com/r/'  in post.url:\n",
    "            f.write(f\"Title: {post.title}\\n\")\n",
    "            f.write(f\"Content: {post.selftext}\\n\")\n",
    "            f.write(f\"Link: {post.url}\\n\\n\")\n",
    "        else:\n",
    "            print(f\"{post.url} not a reddit link\")"
   ]
  },
  {
   "cell_type": "code",
   "execution_count": null,
   "metadata": {},
   "outputs": [],
   "source": [
    "\n",
    "\n"
   ]
  }
 ],
 "metadata": {
  "kernelspec": {
   "display_name": "base",
   "language": "python",
   "name": "python3"
  },
  "language_info": {
   "codemirror_mode": {
    "name": "ipython",
    "version": 3
   },
   "file_extension": ".py",
   "mimetype": "text/x-python",
   "name": "python",
   "nbconvert_exporter": "python",
   "pygments_lexer": "ipython3",
   "version": "3.9.13"
  }
 },
 "nbformat": 4,
 "nbformat_minor": 2
}
