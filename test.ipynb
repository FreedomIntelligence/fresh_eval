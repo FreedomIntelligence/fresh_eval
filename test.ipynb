{
 "cells": [
  {
   "cell_type": "code",
   "execution_count": 2,
   "metadata": {},
   "outputs": [
    {
     "name": "stdout",
     "output_type": "stream",
     "text": [
      "文件夹 './data/2023-12-24/' 存在\n"
     ]
    }
   ],
   "source": [
    "import os\n",
    "\n",
    "folder_path = './data/2023-12-24/'  # 替换为你要检查的文件夹路径\n",
    "\n",
    "if os.path.exists(folder_path):\n",
    "    print(f\"文件夹 '{folder_path}' 存在\")\n",
    "else:\n",
    "    print(f\"文件夹 '{folder_path}' 不存在\")\n",
    "\n",
    "\n",
    "with open('./data/2023-12-24/wr_Yahoo.jsonl','a') as f:\n",
    "    f.write('{\"a\":1}\\n')"
   ]
  },
  {
   "cell_type": "code",
   "execution_count": null,
   "metadata": {},
   "outputs": [
    {
     "data": {
      "application/json": {
       "ascii": false,
       "bar_format": null,
       "colour": null,
       "elapsed": 0.007810115814208984,
       "initial": 0,
       "n": 0,
       "ncols": null,
       "nrows": null,
       "postfix": null,
       "prefix": "",
       "rate": null,
       "total": 1000,
       "unit": "it",
       "unit_divisor": 1000,
       "unit_scale": false
      },
      "application/vnd.jupyter.widget-view+json": {
       "model_id": "17c9a5bc798040b197365367d271c1a2",
       "version_major": 2,
       "version_minor": 0
      },
      "text/plain": [
       "  0%|          | 0/1000 [00:00<?, ?it/s]"
      ]
     },
     "metadata": {},
     "output_type": "display_data"
    },
    {
     "name": "stderr",
     "output_type": "stream",
     "text": [
      "Token indices sequence length is longer than the specified maximum sequence length for this model (5185 > 2048). Running this sequence through the model will result in indexing errors\n",
      "/tmp/ipykernel_11145/4033256481.py:22: UserWarning: seq-409 length 5185 > truncation_length(2048) truncated\n",
      "  warnings.warn(f'seq-{idx} length {seq_length} > truncation_length({max_length}) truncated')\n",
      "/tmp/ipykernel_11145/4033256481.py:22: UserWarning: seq-494 length 8666 > truncation_length(2048) truncated\n",
      "  warnings.warn(f'seq-{idx} length {seq_length} > truncation_length({max_length}) truncated')\n"
     ]
    }
   ],
   "source": [
    "def foo():\n",
    "    return 42\n",
    "for foo in range(5):\n",
    "    print(foo)"
   ]
  },
  {
   "cell_type": "code",
   "execution_count": null,
   "metadata": {},
   "outputs": [],
   "source": []
  }
 ],
 "metadata": {
  "kernelspec": {
   "display_name": "base",
   "language": "python",
   "name": "python3"
  },
  "language_info": {
   "codemirror_mode": {
    "name": "ipython",
    "version": 3
   },
   "file_extension": ".py",
   "mimetype": "text/x-python",
   "name": "python",
   "nbconvert_exporter": "python",
   "pygments_lexer": "ipython3",
   "version": "3.9.13"
  }
 },
 "nbformat": 4,
 "nbformat_minor": 2
}
