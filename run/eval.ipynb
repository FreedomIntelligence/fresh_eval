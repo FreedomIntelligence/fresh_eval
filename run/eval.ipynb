{
 "cells": [
  {
   "cell_type": "code",
   "execution_count": 6,
   "id": "0e9b7601",
   "metadata": {},
   "outputs": [],
   "source": [
    "# import subprocess\n",
    "\n",
    "# get_len_cmd = [\"wc\", \"-l\", r'C:\\Users\\jijivski\\Desktop\\local_VS\\uncheatable_eval\\BBCdata.jsonl']\n",
    "# result = subprocess.run(get_len_cmd, stdout=subprocess.PIPE, stderr=subprocess.PIPE, text=True)\n",
    "# output = result.stdout\n",
    "\n",
    "# # 输出命令结果\n",
    "# print(output)\n",
    "\n",
    "import os \n",
    "os.makedirs(f\"/data/test\", exist_ok=True)\n"
   ]
  },
  {
   "cell_type": "code",
   "execution_count": 11,
   "id": "c3cf6c15",
   "metadata": {},
   "outputs": [
    {
     "name": "stdout",
     "output_type": "stream",
     "text": [
      "File created at: ./data/test/my_file.txt\n"
     ]
    },
    {
     "data": {
      "text/plain": [
       "'c:\\\\Users\\\\jijivski\\\\Desktop\\\\local_VS\\\\uncheatable_eval\\\\run\\\\data\\\\test\\\\my_file.txt'"
      ]
     },
     "execution_count": 11,
     "metadata": {},
     "output_type": "execute_result"
    }
   ],
   "source": [
    "import os\n",
    "\n",
    "# 创建目录\n",
    "os.makedirs(\"./data/test\", exist_ok=True)\n",
    "\n",
    "# 在目录下创建文件\n",
    "file_relative_path = \"my_file.txt\"\n",
    "file_absolute_path = os.path.abspath(os.path.join(\"./data/test\", file_relative_path))\n",
    "\n",
    "file_path = \"./data/test/my_file.txt\"\n",
    "with open(file_path, 'w') as file:\n",
    "    file.write(\"Hello, world!\")\n",
    "\n",
    "print(f\"File created at: {file_path}\")\n",
    "file_absolute_path\n"
   ]
  },
  {
   "cell_type": "code",
   "execution_count": 4,
   "id": "17362266-1ccb-4722-9658-18293f5c7971",
   "metadata": {
    "tags": []
   },
   "outputs": [],
   "source": [
    "import os\n",
    "from tqdm.notebook import tqdm\n",
    "import warnings"
   ]
  },
  {
   "cell_type": "code",
   "execution_count": 5,
   "id": "30db8247-2e27-4941-a4f3-8d592cc58822",
   "metadata": {
    "tags": []
   },
   "outputs": [],
   "source": [
    "PATH = 'arxiv_pdfs_phi'"
   ]
  },
  {
   "cell_type": "code",
   "execution_count": 6,
   "id": "39212c82-a2f5-448e-976f-61793f2e4cf9",
   "metadata": {
    "tags": []
   },
   "outputs": [],
   "source": [
    "from PyPDF2 import PdfReader\n",
    "\n",
    "def extract_first_n_chars_from_pdfs(folder_path, n):\n",
    "    extracted_texts = []\n",
    "    for filename in tqdm(os.listdir(folder_path)):\n",
    "        if filename.endswith('.pdf'):\n",
    "            file_path = os.path.join(folder_path, filename)\n",
    "            try:\n",
    "                with open(file_path, 'rb') as file:\n",
    "                    reader = PdfReader(file)\n",
    "                    text = \"\"\n",
    "                    for page in reader.pages:\n",
    "                        page_text = page.extract_text()\n",
    "                        if page_text:\n",
    "                            text += page_text\n",
    "                            if len(text) >= n:\n",
    "                                break\n",
    "                    extracted_texts.append(text[:n])\n",
    "            except Exception as e:\n",
    "                print(f\"Error reading {filename}: {e}\")\n",
    "    return extracted_texts\n"
   ]
  },
  {
   "cell_type": "code",
   "execution_count": 7,
   "id": "80cb53b7-106c-4503-9dc4-2a93f9aa5b67",
   "metadata": {
    "scrolled": true,
    "tags": []
   },
   "outputs": [
    {
     "data": {
      "application/vnd.jupyter.widget-view+json": {
       "model_id": "499960c178604115b6aaafbf7c889727",
       "version_major": 2,
       "version_minor": 0
      },
      "text/plain": [
       "  0%|          | 0/303 [00:00<?, ?it/s]"
      ]
     },
     "metadata": {},
     "output_type": "display_data"
    },
    {
     "name": "stderr",
     "output_type": "stream",
     "text": [
      "incorrect startxref pointer(3)\n"
     ]
    },
    {
     "name": "stdout",
     "output_type": "stream",
     "text": [
      "303\n",
      "[5000, 5000, 5000, 5000, 5000, 5000, 5000, 5000, 5000, 5000, 5000, 5000, 5000, 5000, 5000, 5000, 5000, 5000, 5000, 5000, 5000, 5000, 5000, 5000, 5000, 5000, 5000, 5000, 5000, 5000, 5000, 5000, 5000, 5000, 5000, 5000, 5000, 5000, 5000, 5000, 5000, 5000, 5000, 5000, 5000, 5000, 5000, 5000, 5000, 5000, 5000, 5000, 5000, 5000, 5000, 5000, 5000, 5000, 5000, 5000, 5000, 5000, 5000, 5000, 5000, 5000, 5000, 5000, 5000, 5000, 5000, 5000, 5000, 5000, 5000, 5000, 5000, 5000, 5000, 5000, 5000, 5000, 5000, 5000, 5000, 5000, 5000, 5000, 5000, 5000, 5000, 5000, 5000, 5000, 5000, 5000, 5000, 5000, 5000, 5000, 5000, 5000, 5000, 5000, 5000, 5000, 5000, 5000, 5000, 5000, 5000, 5000, 5000, 5000, 5000, 5000, 5000, 5000, 5000, 5000, 5000, 5000, 5000, 5000, 5000, 5000, 5000, 5000, 5000, 5000, 5000, 5000, 5000, 5000, 5000, 5000, 5000, 5000, 5000, 5000, 5000, 5000, 5000, 5000, 5000, 5000, 5000, 5000, 5000, 5000, 5000, 5000, 5000, 5000, 5000, 5000, 5000, 5000, 5000, 5000, 5000, 5000, 5000, 5000, 5000, 5000, 5000, 5000, 5000, 5000, 5000, 5000, 5000, 5000, 5000, 5000, 5000, 5000, 5000, 5000, 5000, 5000, 5000, 5000, 5000, 5000, 5000, 5000, 5000, 5000, 5000, 5000, 5000, 5000, 5000, 5000, 5000, 5000, 5000, 5000, 5000, 5000, 5000, 5000, 5000, 5000, 5000, 5000, 5000, 5000, 5000, 5000, 5000, 5000, 5000, 5000, 5000, 5000, 5000, 5000, 5000, 5000, 5000, 5000, 5000, 5000, 5000, 5000, 5000, 5000, 5000, 5000, 5000, 5000, 5000, 5000, 5000, 5000, 5000, 5000, 5000, 5000, 5000, 5000, 5000, 5000, 5000, 5000, 5000, 5000, 5000, 5000, 5000, 5000, 5000, 5000, 5000, 5000, 5000, 5000, 5000, 5000, 5000, 5000, 5000, 5000, 5000, 5000, 5000, 5000, 5000, 5000, 5000, 5000, 5000, 5000, 5000, 5000, 5000, 5000, 5000, 5000, 5000, 5000, 5000, 5000, 5000, 5000, 5000, 5000, 5000, 5000, 5000, 5000, 5000, 5000, 5000, 5000, 5000, 5000, 5000, 5000, 5000]\n"
     ]
    }
   ],
   "source": [
    "max_sample = 1000\n",
    "begin = 0\n",
    "end = 5000\n",
    "\n",
    "assert begin < end\n",
    "\n",
    "extracted_texts = extract_first_n_chars_from_pdfs(PATH, end)\n",
    "\n",
    "extracted_texts = [text.encode('utf-8', 'ignore').decode('utf-8') for text in extracted_texts]\n",
    "\n",
    "extracted_texts = [x[begin: end] for x in extracted_texts]\n",
    "\n",
    "extracted_texts = [x for x in extracted_texts if len(x) > 50]\n",
    "\n",
    "extracted_texts = extracted_texts[:max_sample]\n",
    "\n",
    "print(len(extracted_texts))\n",
    "print([len(x) for x in extracted_texts])\n"
   ]
  },
  {
   "cell_type": "code",
   "execution_count": 8,
   "id": "c9b973cd-b9fb-4c7f-a568-00835b9db06a",
   "metadata": {
    "tags": []
   },
   "outputs": [],
   "source": [
    "# import json\n",
    "#\n",
    "# def save_list_as_json(file_path, string_list):\n",
    "#     \"\"\"\n",
    "#     Saves a list of strings as a JSON file.\n",
    "#\n",
    "#     :param file_path: Path where the JSON file will be saved.\n",
    "#     :param string_list: List of strings to be saved in the JSON file.\n",
    "#     \"\"\"\n",
    "#     with open(file_path, 'w', encoding='utf-8') as file:\n",
    "#         json.dump(string_list, file, ensure_ascii=False, indent=4)\n",
    "#\n",
    "# def load_list_from_json(file_path):\n",
    "#     \"\"\"\n",
    "#     Loads a list of strings from a JSON file.\n",
    "#\n",
    "#     :param file_path: Path of the JSON file to be loaded.\n",
    "#     :return: List of strings loaded from the JSON file.\n",
    "#     \"\"\"\n",
    "#     with open(file_path, 'r', encoding='utf-8') as file:\n",
    "#         return json.load(file)\n",
    "#\n",
    "# # Example usage\n",
    "# file_path = \"0_5000.json\"\n",
    "#\n",
    "# # Save the list as a JSON file\n",
    "# # save_list_as_json(file_path, extracted_texts)\n",
    "#\n",
    "# # Load the list back from the JSON file\n",
    "# extracted_texts = load_list_from_json(file_path)\n"
   ]
  },
  {
   "cell_type": "code",
   "execution_count": 9,
   "id": "26ddc000-1f7b-482e-81cc-4e4b8171744e",
   "metadata": {
    "scrolled": true,
    "tags": []
   },
   "outputs": [
    {
     "name": "stdout",
     "output_type": "stream",
     "text": [
      "arXiv:2312.10938v1  [quant-ph]  18 Dec 2023Inﬂuence of initial states on memory eﬀects: A study of early -time superradiance\n",
      "S. C. Hou,1,∗G. Q. Shuai,1X. Y. Zhang,1J. Shen,2and X. X. Yi3,†\n",
      "1School of Science, Dalian Maritime University, Dalian 1160 26, China\n",
      "2Department of Criminal Technology, Liaoning Police Colleg e, Dalian 116036, China\n",
      "3Center for Quantum Sciences and School of Physics,\n",
      "Northeast Normal University, Changchun 130024, China\n",
      "(Dated: December 19, 2023)\n",
      "The initial state of a quantum system can signiﬁcantly inﬂue nce its future dynamics, especially in\n",
      "non-Markovain quantum processes due to the environmental m emory eﬀects. Based on a previous\n",
      "work of ours, we propose a method to quantify the memory eﬀect s of a non-Markovian quantum\n",
      "process conditioned on a particular system initial state. W e apply our method to study the early-\n",
      "time dynamics of a superradiance model where Natoms (the system) interacting with a single-\n",
      "mode vacuum cavity (the environment) with several types of i nitial states. We ﬁnd that the value\n",
      "of the memory eﬀects in the early-time regime is half the envi ronmental photon number for the\n",
      "(dephased) Dicke states. Besides, the memory eﬀects, the en vironmental photon number and the\n",
      "degree of superradiance can be simultaneously enhanced by t he coherence or entanglement of some\n",
      "initial states. In our study, the transitions from non-supe rradiant initial states to superradiant ones\n",
      "are always accompanied by the enhancement of memory eﬀects, showing the importance of memory\n",
      "eﬀects in superradiance.\n",
      "I. INTRODUCTION\n",
      "The initial state of a quantum system can signiﬁcantly\n",
      "inﬂuence its future dynamics [1, 2], especially in non-\n",
      "Markovain quantum processes due to the environmental\n",
      "memory eﬀects. One trivial example is that if the system\n",
      "is initially in a steady state in a non-Markovian quan-\n",
      "tum process, it can hardly exhibit any non-Markovain\n",
      "features afterward, such as the revival of energy or infor-\n",
      "mation [3, 4]. More intriguing phenomena may emerge\n",
      "when a system consists of a collection of subsystems, such\n",
      "that the properties of its initial state, such as entangle-\n",
      "ment, may signiﬁcantly inﬂuence the future dynamics.\n",
      "A well-known example is the concept of superradiance\n",
      "[5–12] introduced by Dicke in 1954, where the emission\n",
      "intensity from an ensemble of atoms interacting with a\n",
      "common electromagnetic ﬁeld can be enhanced compared\n",
      "with that from independent atoms. It is also well-known\n",
      "that the superradiance behaviors are highly relevant to\n",
      "the initial states of the system. In recent years, super-\n",
      "radiance has received a large amount of attention due\n",
      "to its theoretical signiﬁcance and potential applications\n",
      "[13–29]. Under certain approximations, such as a coarse\n",
      "grained time scale, the superradiance process could be\n",
      "regarded as Markovian [8–12], whereas, it is intrinsically\n",
      "non-Markovian. With the advances in theories and tech-\n",
      "nologies, understanding the non-Markovian dynamics of\n",
      "superradiance becomes more demanding [26–29]. In a\n",
      "recent work [29], the author shows that non-Markovian\n",
      "memory eﬀects play an important role in superradiance\n",
      "beyond retardation, featuring the quadratic dynamics in\n",
      "the early-time (Zeno regime). In view of the signiﬁcant\n",
      "∗housc@dlmu.edu.cn\n",
      "†yixx@nenu.edu.cninﬂuences of the system initial states on non-Markovain\n",
      "quantum processes, especially, a superradiance process,\n",
      "some interesting questions arise. For example, how to\n",
      "quantitatively evaluate the memory eﬀects of a quantum\n",
      "process conditioned on a particular system initial state?\n",
      "How does the initial state of a system inﬂuence the mem-\n",
      "ory eﬀects? What is the role of the memory eﬀects in\n",
      "a superradiance process, especially in its the early-time\n",
      "dynamics where the superradiance is created. Are there\n",
      "quantitative relations between the memory eﬀects and\n",
      "the superradiance characteristics.\n",
      "In this paper, we try to answer these questions by ﬁrst\n",
      "proposing a method to quantify the memory eﬀects in a\n",
      "quantum process conditioned on a particular system ini-\n",
      "tial state. The method is based on a previous work [30]\n",
      "of ours. In that work, we quantify the memory eﬀects\n",
      "(past-future dependence) of a quantum process through\n",
      "the inequality of completely positive dynamical maps\n",
      "T(t2,t0)/ne}ationslash=T(t2,t1)T(t1,t0). By acting the inequality\n",
      "on a particular initial state ρS(t0), the memory eﬀects\n",
      "could be understood by the diﬀerence between two ﬁnal\n",
      "statesρS(t2) andρ′\n",
      "S(t2). The reason is that the evo-\n",
      "lutions corresponding to T(t2,t0) andT(t2,t1) have the\n",
      "same system states at t1but diﬀerent histories before t1.\n",
      "Based on the above interpretation, we suggest measuring\n",
      "the memory eﬀects conditioned on the initial state ρS(t0)\n",
      "by the maximal diﬀerence of ρS(t2) andρ′\n",
      "S(t2) in a time\n",
      "interval of interest. Using this method, we calculate the\n",
      "memory eﬀects (as well as the radiation characteristics)\n",
      "of a superradiance model in the early-time regime (Zeno\n",
      "regime). The model describes Ntwo-level atoms inter-\n",
      "acting with a singl\n",
      "----------------------------------------------------------------------------------------------------\n",
      " 1  Opto -twistronic Hall effect in a three -dimensional spiral lattice  \n",
      " \n",
      "Zhurun Ji1,2, Yuzhou Zhao3, Yicong Chen2, Ziyan Zhu4, Yuhui Wang1, Wenjing Liu1,5, Gaurav \n",
      "Modi1, Eugene J. Mele2, Song Jin3 and Ritesh Agarwal1 \n",
      "1 Department of Materials Science and Engineering, University of Pennsylvania, Philadelphia, PA \n",
      "19104, USA   \n",
      "2 Department of Physics and Astronomy, University of Pennsylvania, Philadelphia, PA 19104, \n",
      "USA. \n",
      "3 Department of Chemistry, University of Wisconsin- Madison, Madison, WI 53706, USA  \n",
      "4 Stanford Institute for Materials and Energy Sciences, SLAC National Accelerator Laboratory, \n",
      "Menlo Park, CA 94025, USA \n",
      "5 State Key Laboratory for Mesoscopic Physics and Frontiers Science C enter for Nano -\n",
      "optoelectronics, School of Physics, Peking University, Beijing, 100871, China  \n",
      " \n",
      "Studies of moiré systems have elucidated the exquisite effect  of quantum geometry on \n",
      "the electronic bands and their properties,  leading to the discovery of new co rrelated phases. \n",
      "However, most  experimental studies have been confined to a few layers  in the 2D limit. The \n",
      "extension of twistronics to its 3D limit,  where the twist is extended into the third dimension \n",
      "between adjacent  layers, remains un derexplored due to  the challenges in precisely stacking  \n",
      "layers. Here, we focus on 3D  twistronics on a platform of self -assembled spiral superlattice \n",
      "of multilayered WS 2. Our findings reveal an opto- twistronic Hall effect driven by  an  2 interplay of structural chirality and photon momentum, modulated by the moiré  potential  \n",
      "of the spiral superlattice. This coupling is an experimental manifestation of the \n",
      "noncommutative geometry that arises when simple translational symmetry perpendicular to \n",
      "the stack is replaced by a non -symmo rphic screw operation. We also discover signatures of \n",
      "enhanced light -matter interactions and a strongly coupled photon momentum -lattice \n",
      "interaction  owing to the properties of the 3D twistronic system that cannot be explained by \n",
      "existing  theoretical models . Crucially, our findings uncover the role of higher -order \n",
      "quantum geometrical tensors in light -matter interactions , opening new avenues for designing \n",
      "quantum materials -based optoelectronic lattices with large nonlinearities, paving the way \n",
      "for develop ing advanced nanophotonic devices.  \n",
      " \n",
      "Chiral states of matter  are known to provide interesting functionalities . Some of the most \n",
      "interesting molecular structures discovered include the double -helical DNA and triple -helical \n",
      "collagen and ex tensive r esearch has elucidated intriguing structure -property relationships  in \n",
      "materials synthesized  by their hierarchically ordered  assemblies1, 2, 3. Analogously, one-\n",
      "dimensional  helical  nanotubes4, 5 and two-dimensional  (2D) materials6, 7 assembled via control of \n",
      "their twist angles ( moiré  systems) have been  widely explored, and the effect  of geometry on  \n",
      "electronic properties of quantum matter as well as the emergence of new phases have attracted \n",
      "attention8. Linear and nonlinear optical response studies have also uncovered new properties  \n",
      "associated with the modified  lattice  geometry in 2D moiré  systems  such as i nterlayer exciton \n",
      "emission9 and mediated interaction10, quantum anomalous Hall effect11, 12, intelligent infrared \n",
      "sensing13, and moiré  exciton -polaritons14. However, most  of these  studies have been limited to  \n",
      "twisted few layer homo-  and hetero -bilayer transition metal dichalcogenide  (TMD) systems , hence  3 mostly  confined to two- dimensions. This is primarily due  to the challenge of manually  stacking  \n",
      "individual layers practically constraining most studies to  only a few layer s15, 16, 17. However, i t is \n",
      "natural to ask if the idea of twistronics can be continued into the third dimension and if new phases \n",
      "and properties can emerge in these 3D chiral ly stacked  systems. There have been a few theoretical \n",
      "predictions on the possible changes to the system when the layer numbers grow, such as moiré  of \n",
      "moiré  modulation18, topological phase transition19, optical rotation20, and the emergence of new \n",
      "resonant states21, 22. However, these properties have  not been experimentally explored in systems \n",
      "where the twist forms a pattern or (quasi) -periodicity in the third dimension, and connects the  2D \n",
      "moiré  systems with the multilayer ed, 3D limit, i.e., solid state analogs of helical DNA .   \n",
      "In few-layer twisted 2D moiré  materials , electron (exciton) -photon interactions have been \n",
      "shown to share many characteristics with that of monolayers. Therefore, i n the  3D limit of moiré  \n",
      "system s, an intriguing question arises  when the moiré  lattice period icity and sample thickness \n",
      "become comparable to the optical wavelength scale: how is the  light- matter interaction paradigm \n",
      "affected ? This question is important  since the electrodynamic response of engineered quantum \n",
      "materials reveal s unique feature of their electronic states  and that are not ordinarily  studied in \n",
      "----------------------------------------------------------------------------------------------------\n",
      "The Type-II/Type-I Crossover in Dirty Ferromagnetic Superconductors\n",
      "P. M. Marychev1and Yajiang Chen2,∗\n",
      "1HSE University, 101000 Moscow, Russia\n",
      "2Key Laboratory of Optical Field Manipulation of Zhejiang Province,\n",
      "Department of Physics, Zhejiang Sci-Tech University, Hangzhou 310018, China\n",
      "In this work we investigate the intertype (IT) domain in strongly disordered ferromagnetic super-\n",
      "conductors with a Curie temperature lower than the superconducting critical temperature. In such\n",
      "unique materials, the coexistence of superconductivity and ferromagnetism allows for the exploration\n",
      "of both unconventional superconductivity and interplay between magnetism and superconductivity.\n",
      "The study utilizes an extended Ginzburg-Landau model for the dirty limit to calculate the bound-\n",
      "aries of the IT domain which is characterized by a complex vortex-vortex interaction and exotic\n",
      "vortex configurations. The analysis reveals that the IT domain in dirty ferromagnetic superconduc-\n",
      "tors is not qualitatively different from the clean case and remains similarly large, suggesting that\n",
      "disorder does not hinder the exploration of the rich variety of IT superconductivity in ferromagnetic\n",
      "superconductors. This work expands understanding of the interplay between superconductivity and\n",
      "magnetism in complex materials and could guide future experimental studies.\n",
      "It is known that superconducting and ferromagnetic orderings are antagonistic. The electromagnetic mechanism,\n",
      "which is the generation of the screening currents by the magnetic induction of the ferromagnetic system, tends to\n",
      "suppress superconductivity [1]. In addition, the exchange interaction favours an alignment of the electron spins in\n",
      "Cooper pairs in the same direction, which destroys the conventional spin-singlet Cooper pairing [2]. Therefore, the\n",
      "coexistence of superconductivity and ferromagnetism is primarily realized in artificial superconductor/ferromagnet\n",
      "heterostructures [3–7]. In bulk systems superconductivity in most cases is either destroyed by the emergence of\n",
      "ferromagnetism [8–10] or coexists with non-ferromagnetic ordering such as the antiferromagnetic one [11–13]. The\n",
      "well-known examples of superconductivity surviving in the ferromagnetic bulk state are uranium-based superconduc-\n",
      "tors [14], where the pairing is spin-triplet, and thus, the superconducting ordering is not suppressed by the exchange\n",
      "interaction. In these compounds the Curie temperature Tmis significantly higher than the superconducting critical\n",
      "temperature Tcand the ferromagnetic ordering is dominant and just marginally influenced by the superconductivity.\n",
      "However, the coexistence of the singlet superconductivity and the ferromagnetic ordering in a wide temperature\n",
      "range has been recently observed in P-doped EuFe 2As2compound [15–19]. Interaction with the magnetic subsystem\n",
      "in this material is primarily electromagnetic and the ferromagnetism is weak enough to not suppress the singlet\n",
      "pairing. As a result, Tmis less than Tcfor a large interval of P-doping (for example, Tm= 19 K while Tc= 24.2\n",
      "K). Interplay between ferromagnetism and superconductivity in this compound at T < T mresults in the formation\n",
      "of unconventional magnetic and superconducting spatial configurations [18–21] such as unusually narrow magnetic\n",
      "domains, Meissner domains and spontaneously generated vortex-antivortex pairs embedded in striped and dendritic\n",
      "patterns.\n",
      "However, the magnetic subsystem could influence superconductivity even at temperature T > T min spite of the\n",
      "absence of the intrinsic magnetic ordering. It has been theoretically shown and experimentally observed in ErRh 4B4\n",
      "that strong paramagnetic response of the magnetic subsystem just above Tmleads to the crossover from type-II to\n",
      "type-I superconductivity when the temperature is lowered down to Tm[22]. The crossover is associated with the\n",
      "change of the magnetic penetration depth λ.λdefines the radius of the vortex area Sthe magnetic fluxR\n",
      "B·dS\n",
      "through which is equal to the superconductive flux quantum Φ 0. The magnetic induction Bis proportional to the\n",
      "magnetic permeability µ, and given that Φ 0is constant, Sis therefore inversely proportional to µ. Thus λis multiplied\n",
      "by the factor 1 /√µand, consequently, the Ginzburg-Landau (GL) parameter κ=λ/ξis multiplied by the same factor.\n",
      "Since µof the magnetic subsystem increases with a decrease in the temperature and diverges at Tm, the GL parameter\n",
      "κsignificantly decreases when the temperature is lowered to Tm. As a result, the initially (in the vicinity of Tc) type-II\n",
      "superconductor turns into a type-I superconductor.\n",
      "According to the GL theory, the crossover between the superconductivity types occurs at the point where κ=κ0=\n",
      "1/√\n",
      "2, which is also known as the Bogomolnyi point (B-point) [23, 24]. At the B-point vortices do not interact and\n",
      "the superconducting state is infinitely degenerate, which means that positions and configurations of vortices can be\n",
      "arbitrary. But this picture is correct only in the nearest vicinity of Tc. The B-p\n",
      "----------------------------------------------------------------------------------------------------\n",
      "Charged lepton flavour violation in muons: theory\n",
      "overview\n",
      "Ana M. Teixeira∗\n",
      "Laboratoire de Physique de Clermont (UMR 6533), CNRS/IN2P3,\n",
      "Univ. Clermont Auvergne, 4 Av. Blaise Pascal, 63178 Aubière Cedex, France\n",
      "E-mail: ana.teixeira@clermont.in2p3.fr\n",
      "We briefly overview some theoretical aspects of charged lepton flavour violation in rare muon\n",
      "transitions and decays. Relying on the effective field theory approach (model-independent), we\n",
      "discusstheprobingpowerofchargedleptonflavourviolationprocessesregardingthenewphysics\n",
      "scale, especially in what concerns muon-electron conversion in nuclei. We then illustrate how\n",
      "theseprocessescanprovidevaluableinformation(allowingtoconstrain,falsify-orconverselyto\n",
      "learnabouttheunderlyingnewphysicsproperties)forafewexamplesofwell-motivatedextensions\n",
      "of the Standard Model. We finally comment on how leptonic CP violation should be carefully\n",
      "considered upon studies of charged lepton flavour violation in extensions of the Standard Model\n",
      "featuring heavy sterile fermions.\n",
      "Muon4Future Workshop (Muon4Future2023)\n",
      "29–31 May, 2023\n",
      "Venezia, Italy\n",
      "∗Speaker\n",
      "©Copyright owned by the author(s) under the terms of the Creative Commons\n",
      "Attribution-NonCommercial-NoDerivatives 4.0 International License (CC BY-NC-ND 4.0). https://pos.sissa.it/arXiv:2312.10957v1  [hep-ph]  18 Dec 2023Charged lepton flavour violation in muons: theory overview Ana M. Teixeira\n",
      "1. Introduction\n",
      "Flavourphysicshasplayedakeyroleintheshapingandevolutionofparticlephysicssincethe\n",
      "earlydaysoftheStandardModel(SM).Inrecentyears,flavourshavepavedthewaytosearchesfor\n",
      "NewPhysics(NP):fromthediscoveryofneutrinooscillations,tothelong-standingtensionsbetween\n",
      "theoryandobservationregardingtheanomalousmagneticmomentofthemuon,toconflictingdata\n",
      "on possible violation of lepton flavour universality in meson decays. Curiously, many of these\n",
      "tensions are deeply rooted in the lepton sector. Strictly forbidden in the context of the SM, the\n",
      "violation of lepton flavour was clearly demonstrated with neutrino oscillation phenomena, and\n",
      "in principle, once the latter occurs, nothing precludes the violation of charged lepton flavours.\n",
      "However, minimal extensions of the SM envisaged to accommodate neutrino oscillation data (via\n",
      "the addition of massive Dirac neutrinos, and lepton mixings) lead to tiny rates for charged lepton\n",
      "flavourviolating(cLFV)transitions. Thus,anyobservationofacLFVprocesswouldofferstriking\n",
      "evidence for NP - beyond such minimal SM extensions.\n",
      "In view of their very appealing properties, muons are ideal objects to search for cLFV, with\n",
      "numerous muonic transitions as the object of extensive dedicated searches at low-energies and at\n",
      "colliders. The former include radiative decays ( 𝜇→𝑒𝛾), three-body decays ( 𝜇→3𝑒), muonic-\n",
      "bound state processes, such as Muonium (Mu =𝜇+𝑒−) oscillations and decays, or transitions in\n",
      "the presence of muonic atoms (including neutrinoless 𝜇−𝑒conversion, among others). At higher\n",
      "energies-attheLHCoratfutureleptoncolliders-,numerousprocessescanalsoleadtoadiscovery\n",
      "ofcLFV,asisthecaseofneutralbosondecays( 𝑍,𝐻→𝜇𝑒),orthestudyofhigh- 𝑝𝑇dileptontails\n",
      "in𝑝𝑝→𝜇ℓ. Theexpectedfuturesensitivitiesofmuon-cLFVdedicatedfacilitiessuggestthatthese\n",
      "processes might offer a sensitivity to NP mediators up to scales around 105TeV [1].\n",
      "MuoncLFVisthuspoisedtoofferevidenceforNP,orthenfurtherstrengthentheconstraintson\n",
      "thescaleofthenewmediatorsandontheintensityofthenewinteractionswithleptons;fromatheory\n",
      "perspective, studies of muon cLFV can be carried out following an effective (model-independent)\n",
      "approach,orinvestigatingtheprospectsforcLFVofagiven,well-motivatedNPmodel(especially\n",
      "those which also offer an explanation to the SM observational issues, including neutrino mass\n",
      "generation and the baryon asymmetry of the Universe, or a viable dark matter candidate). In what\n",
      "follows, we will illustrate these approaches.\n",
      "2. Muon cLFV: effective approach to NP\n",
      "Intheeffectivefieldtheory(EFT)approach,theSMLagrangianisgeneralisedtoincludehigh-\n",
      "order,non-renormalisabletermsthatencodetheeffectsofheavynewstates(andtheirinteractions),\n",
      "possibly present at scales far above the electroweak one, ΛNP≫ΛEW. The observables can\n",
      "be expressed in terms of the new couplings and scale, and available bounds are then used to\n",
      "constrain combinations of the latter. In view of the extensive number of operators that can be\n",
      "at the origin of the cLFV transitions (dimension 6, and higher), the task is far from simple. In\n",
      "recentyears,numerousanalyseshaveemphasisedtherelevanceoftakingintoaccounthigher-order\n",
      "contributions, renormalisation group running (leading to operator mixing), among other points,\n",
      "also suggesting the importance of including as many observables and operators as possible, so to\n",
      "more efficiently constrain the nature of the NP contributions (see,e.g. [2]). A new parametrisation\n",
      "2Charged lepton flavour violation in muons: theory overview Ana M. Teixeira\n",
      "proposal [3], relying on projections onto a space spanned by the most relevant operators for muon\n",
      "cLFVtransitions,®𝐶={𝐶𝐷,\n",
      "----------------------------------------------------------------------------------------------------\n",
      "Observation of significant flavor-SU(3) breaking in the kaon wave function at\n",
      "12 GeV2< Q2<25 GeV2and discovery of the charmless decay ψ(3770)→K0\n",
      "SK0\n",
      "L\n",
      "M. Ablikim1, M. N. Achasov4,b, P. Adlarson75, X. C. Ai81, R. Aliberti35, A. Amoroso74A,74C, M. R. An39,\n",
      "Q. An71,58, Y. Bai57, O. Bakina36, I. Balossino29A, Y. Ban46,g, H.-R. Bao63, V. Batozskaya1,44, K. Begzsuren32,\n",
      "N. Berger35, M. Berlowski44, M. Bertani28A, D. Bettoni29A, F. Bianchi74A,74C, E. Bianco74A,74C, A. Bortone74A,74C,\n",
      "I. Boyko36, R. A. Briere5, A. Brueggemann68, H. Cai76, X. Cai1,58, A. Calcaterra28A, G. F. Cao1,63, N. Cao1,63,\n",
      "S. A. Cetin62A, J. F. Chang1,58, T. T. Chang77, W. L. Chang1,63, G. R. Che43, G. Chelkov36,a, C. Chen43,\n",
      "Chao Chen55, G. Chen1, H. S. Chen1,63, M. L. Chen1,58,63, S. J. Chen42, S. L. Chen45, S. M. Chen61, T. Chen1,63,\n",
      "X. R. Chen31,63, X. T. Chen1,63, Y. B. Chen1,58, Y. Q. Chen34, Z. J. Chen25,h, S. K. Choi10A, X. Chu43,\n",
      "G. Cibinetto29A, S. C. Coen3, F. Cossio74C, J. J. Cui50, H. L. Dai1,58, J. P. Dai79, A. Dbeyssi18, R. E. de Boer3,\n",
      "D. Dedovich36, Z. Y. Deng1, A. Denig35, I. Denysenko36, M. Destefanis74A,74C, F. De Mori74A,74C, B. Ding66,1,\n",
      "X. X. Ding46,g, Y. Ding40, Y. Ding34, J. Dong1,58, L. Y. Dong1,63, M. Y. Dong1,58,63, X. Dong76, M. C. Du1,\n",
      "S. X. Du81, Z. H. Duan42, P. Egorov36,a, Y. H. Fan45, J. Fang1,58, S. S. Fang1,63, W. X. Fang1, Y. Fang1,\n",
      "Y. Q. Fang1,58, R. Farinelli29A, L. Fava74B,74C, F. Feldbauer3, G. Felici28A, C. Q. Feng71,58, J. H. Feng59,\n",
      "K Fischer69, M. Fritsch3, C. D. Fu1, J. L. Fu63, Y. W. Fu1, H. Gao63, Y. N. Gao46,g, Yang Gao71,58,\n",
      "S. Garbolino74C, I. Garzia29A,29B, P. T. Ge76, Z. W. Ge42, C. Geng59, E. M. Gersabeck67, A Gilman69,\n",
      "K. Goetzen13, L. Gong40, W. X. Gong1,58, W. Gradl35, S. Gramigna29A,29B, M. Greco74A,74C, M. H. Gu1,58,\n",
      "Y. T. Gu15, C. Y Guan1,63, Z. L. Guan22, A. Q. Guo31,63, L. B. Guo41, M. J. Guo50, R. P. Guo49, Y. P. Guo12,f,\n",
      "A. Guskov36,a, J. Gutierrez27, T. T. Han1, W. Y. Han39, X. Q. Hao19, F. A. Harris65, K. K. He55, K. L. He1,63,\n",
      "F. H H.. Heinsius3, C. H. Heinz35, Y. K. Heng1,58,63, C. Herold60, T. Holtmann3, P. C. Hong12,f, G. Y. Hou1,63,\n",
      "X. T. Hou1,63, Y. R. Hou63, Z. L. Hou1, B. Y. Hu59, H. M. Hu1,63, J. F. Hu56,i, T. Hu1,58,63, Y. Hu1,\n",
      "G. S. Huang71,58, K. X. Huang59, L. Q. Huang31,63, X. T. Huang50, Y. P. Huang1, T. Hussain73, N H¨ usken27,35,\n",
      "N. in der Wiesche68, M. Irshad71,58, J. Jackson27, S. Jaeger3, S. Janchiv32, J. H. Jeong10A, Q. Ji1, Q. P. Ji19,\n",
      "X. B. Ji1,63, X. L. Ji1,58, Y. Y. Ji50, X. Q. Jia50, Z. K. Jia71,58, H. J. Jiang76, P. C. Jiang46,g, S. S. Jiang39,\n",
      "T. J. Jiang16, X. S. Jiang1,58,63, Y. Jiang63, J. B. Jiao50, Z. Jiao23, S. Jin42, Y. Jin66, M. Q. Jing1,63, X. M. Jing63,\n",
      "T. Johansson75, X. K.1, S. Kabana33, N. Kalantar-Nayestanaki64, X. L. Kang9, X. S. Kang40, M. Kavatsyuk64,\n",
      "B. C. Ke81, V. Khachatryan27, A. Khoukaz68, R. Kiuchi1, R. Kliemt13, O. B. Kolcu62A, B. Kopf3, M. Kuessner3,\n",
      "A. Kupsc44,75, W. K¨ uhn37, J. J. Lane67, P. Larin18, A. Lavania26, L. Lavezzi74A,74C, T. T. Lei71,58, Z. H. Lei71,58,\n",
      "H. Leithoff35, M. Lellmann35, T. Lenz35, C. Li47, C. Li43, C. H. Li39, Cheng Li71,58, D. M. Li81, F. Li1,58, G. Li1,\n",
      "H. Li71,58, H. B. Li1,63, H. J. Li19, H. N. Li56,i, Hui Li43, J. R. Li61, J. S. Li59, J. W. Li50, Ke Li1, L. J Li1,63,\n",
      "L. K. Li1, Lei Li48, M. H. Li43, P. R. Li38,k, Q. X. Li50, S. X. Li12, T. Li50, W. D. Li1,63, W. G. Li1, X. H. Li71,58,\n",
      "X. L. Li50, Xiaoyu Li1,63, Y. G. Li46,g, Z. J. Li59, Z. X. Li15, C. Liang42, H. Liang1,63, H. Liang71,58, Y. F. Liang54,\n",
      "Y. T. Liang31,63, G. R. Liao14, L. Z. Liao50, Y. P. Liao1,63, J. Libby26, A. Limphirat60, D. X. Lin31,63, T. Lin1,\n",
      "B. J. Liu1, B. X. Liu76, C. Liu34, C. X. Liu1, F. H. Liu53, Fang Liu1, Feng Liu6, G. M. Liu56,i, H. Liu38,j,k,\n",
      "H. B. Liu15, H. M. Liu1,63, Huanhuan Liu1, Huihui Liu21, J. B. Liu71,58, J. Y. Liu1,63, K. Liu1, K. Y. Liu40,\n",
      "Ke Liu22, L. Liu71,58, L. C. Liu43, Lu Liu43, M. H. Liu12,f, P. L. Liu1, Q. Liu63, S. B. Liu71,58, T. Liu12,f,\n",
      "W. K. Liu43, W. M. Liu71,58, X. Liu38,j,k, Y. Liu38,j,k, Y. Liu81, Y. B. Liu43, Z. A. Liu1,58,63, Z. Q. Liu50,\n",
      "X. C. Lou1,58,63, F. X. Lu59, H. J. Lu23, J. G. Lu1,58, X. L. Lu1, Y. Lu7, Y. P. Lu1,58, Z. H. Lu1,63, C. L. Luo41,\n",
      "M. X. Luo80, T. Luo12,f, X. L. Luo1,58, X. R. Lyu63, Y. F. Lyu43, F. C. Ma40, H. Ma79, H. L. Ma1, J. L. Ma1,63,\n",
      "L. L. Ma50, M. M. Ma1,63, Q. M. Ma1, R. Q. Ma1,63, X. Y. Ma1,58, Y. Ma46,g, Y. M. Ma31, F. E. Maas18,\n",
      "M. Maggiora74A,74C, S. Malde69, Q. A. Malik73, A. Mangoni28B, Y. J. Mao46,g, Z. P. Mao1, S. Marcello74A,74C,\n",
      "Z. X. Meng66, J. G. Messchendorp13,64, G. Mezzadri29A, H. Miao1,63, T. J. Min42, R. E. Mitchell27, X. H. Mo1,58,63,\n",
      "B. Moses27, N. Yu. Muchnoi4,b, J. Muskalla35, Y. Nefedov36, F. Nerling18,d, I. B. Nikolaev4,b, Z. Ning1,58,\n",
      "S. Nisar11,l, Q. L. Niu38,j,k, W. D. Niu55, Y. Niu50, S. L. Olsen63, Q. Ouyang1,58,63, S. Pacetti28B,28C, X. Pan55,\n",
      "Y. Pan57, A. Pathak34, P. Patteri28A, Y. P. Pei71,58, M. Pelizaeus3, H. P. Peng71,58, Y. Y. Peng38,j,k, K. Peters13,d,\n",
      "J. L. Ping41, R. G. Ping1,63, S. Plura35, V. Prasad33, F. Z. Qi1,\n",
      "----------------------------------------------------------------------------------------------------\n",
      "Observation of Bose-Einstein Condensation of Dipolar Molecules\n",
      "Niccolò Bigagli,1,∗Weijun Yuan,1,∗Siwei Zhang,1,∗Boris Bulatovic,1Tijs Karman,2Ian Stevenson,1and Sebastian Will1, †\n",
      "1Department of Physics, Columbia University, New York, New York 10027, USA\n",
      "2Institute for Molecules and Materials, Radboud University, 6525 AJ Nijmegen, Netherlands\n",
      "Ensembles of particles governed by quantum mechanical laws exhibit fascinating emergent behavior. Atomic\n",
      "quantum gases [1, 2], liquid helium [3, 4], and electrons in quantum materials [5–7] all show distinct properties\n",
      "due to their composition and interactions. Quantum degenerate samples of bosonic dipolar molecules promise\n",
      "the realization of novel phases of matter with tunable dipolar interactions [8] and new avenues for quantum\n",
      "simulation [9] and quantum computation [10]. However, rapid losses [11], even when reduced through colli-\n",
      "sional shielding techniques [12–14], have so far prevented cooling to a Bose-Einstein condensate (BEC). In this\n",
      "work, we report on the realization of a BEC of dipolar molecules. By strongly suppressing two- and three-body\n",
      "losses via enhanced collisional shielding, we evaporatively cool sodium-cesium (NaCs) molecules to quantum\n",
      "degeneracy. The BEC reveals itself via a bimodal distribution and a phase-space-density exceeding one. BECs\n",
      "with a condensate fraction of 60(10) % and a temperature of 6(2) nK are created and found to be stable with a\n",
      "lifetime close to 2 seconds. This work opens the door to the exploration of dipolar quantum matter in regimes\n",
      "that have been inaccessible so far, promising the creation of exotic dipolar droplets [15], self-organized crystal\n",
      "phases [16], and dipolar spin liquids in optical lattices [17].\n",
      "INTRODUCTION\n",
      "The behavior of many-body quantum systems is dictated\n",
      "by the interactions between their constituents. Starting from\n",
      "weak contact interactions, Bose-Einstein condensates (BECs)\n",
      "of neutral atoms [1, 2] were instrumental in gaining full con-\n",
      "trol of atoms, in understanding the basic properties of super-\n",
      "fluids, and in establishing quantum simulation as a viable ex-\n",
      "perimental method [18, 19]. BECs of highly magnetic atoms\n",
      "enabled the study of systems with weak long-range dipole-\n",
      "dipole interactions [20] and the realization of rich phases of\n",
      "matter such as quantum ferrofluids [21] and droplets [22, 23].\n",
      "Even stronger interactions are at the core of the intriguing\n",
      "properties of liquid helium [24] or electron gases in solid state\n",
      "systems [25, 26].\n",
      "Quantum gases of ground state dipolar molecules have been\n",
      "proposed as a clean and controlled system in which long-\n",
      "range interactions can be tuned from the weakly interacting\n",
      "to the strongly interacting regime. In the limit of weak inter-\n",
      "actions, bosonic molecules will form a Bose-Einstein conden-\n",
      "sate, much like dilute atomic clouds. Once the strength of in-\n",
      "teractions is increased, theoretical predictions abound [8] and\n",
      "include the realization of strongly correlated phases of matter\n",
      "[15], from supersolids [27] to dipolar crystals [16] and Mott\n",
      "insulators with fractional filling [28]. Thus, low entropy sam-\n",
      "ples of dipolar molecules will constitute a new platform for\n",
      "many-body physics and quantum simulation.\n",
      "The realization of a Bose-Einstein condensate of dipo-\n",
      "lar molecules has been elusive for more than two decades,\n",
      "since the first theoretical ideas on their use were explored\n",
      "[10, 28]. When the first ultracold gases of dipolar ground\n",
      "state molecules were created in 2008 [29], it was found that\n",
      "chemical reactions can lead to relatively fast losses which lim-\n",
      "ited their lifetimes [11]. In hopes to mitigate such losses,\n",
      "ground state samples of chemically stable species [30] were\n",
      "prepared [31–33], but the problem of short lifetimes remained\n",
      "[34–36], likely due to loss channels that open up as a re-sult of molecules’ complex internal structure and interactions\n",
      "[37]. Such losses prevented efficient evaporative cooling, a\n",
      "workhorse technique in the preparation of atomic quantum\n",
      "gases. Recently, various collisional shielding techniques [38–\n",
      "41] have led to the production of molecular clouds with re-\n",
      "duced losses, but evaporative cooling has remained relatively\n",
      "inefficient [12, 42–44]. For fermionic molecules, thanks to\n",
      "their intrinsically lower losses, this has been sufficient to cre-\n",
      "ate degenerate Fermi gases [12, 42]. But recent work [43, 44]\n",
      "showed that further substantial improvements to collisional\n",
      "shielding are key to reaching quantum degeneracy for bosonic\n",
      "molecules.\n",
      "Here, we demonstrate the realization of a Bose-Einstein\n",
      "condensate of dipolar molecules. By strongly suppressing\n",
      "two- and three-body losses, we evaporatively cool ensembles\n",
      "of NaCs molecules from 700(50) nK to 6(2) nK within 3 sec-\n",
      "onds. Figs. 1 aandbshow sample images during the evap-\n",
      "oration sequence and an illustration of the experimental ap-\n",
      "proach, respectively. We reach the critical phase-space den-\n",
      "sity for a BEC with over 2,000 molecules and further evapo-\n",
      "rate to BECs with 200 molecules and sm\n",
      "----------------------------------------------------------------------------------------------------\n",
      "Viscous effect in the late time evolution of phantom universe\n",
      "Jing Yang,1Rui-Hui Lin,1,∗Chao-Jun Feng,1,†and Xiang-Hua Zhai1,‡\n",
      "1Division of Mathematics and Theoretical Physics,\n",
      "Shanghai Normal University, 100 Guilin Road, Shanghai 200234, China\n",
      "Abstract\n",
      "We investigate the cosmological implications of a phantom dark energy model with bulk viscosity.\n",
      "We explore this model as a possible way to resolve the big rip singularity problem that plagues the\n",
      "phantom models. We use the latest type Ia supernova and Hubble parameter data to constrain\n",
      "the model parameters and find that the data favor a significant bulk viscosity over a non-constant\n",
      "potential term for the phantom field. We perform a dynamical analysis of the model and show\n",
      "that the only stable and physical attractor corresponds to a phantom-dominated era with a total\n",
      "equation of state that can be greater than −1 due to the viscosity. We also study the general\n",
      "effect of viscosity on the phantom field and the late time evolution of the universe. We apply the\n",
      "statefinder diagnostic to the model and find that it approaches a nearby fixed point asymptotically,\n",
      "indicating that the universe can escape the big rip singularity with the presence of bulk viscosity.\n",
      "We conclude that bulk viscosity can play an important role in affecting the late-time behavior as\n",
      "well as alleviating the singularity problem of the phantom universe.\n",
      "∗linrh@shnu.edu.cn\n",
      "†fengcj@shnu.edu.cn\n",
      "‡zhaixh@shnu.edu.cn\n",
      "1arXiv:2312.10970v1  [gr-qc]  18 Dec 2023I. INTRODUCTION\n",
      "Cosmological observations in recent decades have revealed more details about the evo-\n",
      "lutional history of the universe. One of the major discoveries is the late time acceleration\n",
      "of cosmic expansion, which can be generally understood from at least two different per-\n",
      "spectives. Either Einstein’s theory of gravity is incomplete and calls for modifications (for\n",
      "recent reviews, see, e.g., Refs. [1, 2]), or there is an unknown form of energy dubbed dark\n",
      "energy (DE) that exhibits repulsive behavior. The simplest model of DE is the cosmological\n",
      "constant Λ model with cold dark matter (ΛCDM), which assumes that DE consists of a\n",
      "constant energy density that fills the space uniformly and has a constant equation of state\n",
      "(EoS) wDE=−1, where wDEis the ratio of pressure to energy density of the DE content.\n",
      "However, the cosmological constant has no clear physical origin and faces several theo-\n",
      "retical challenges (see, e.g., Ref. [3]). Therefore, many alternative DE models have been\n",
      "proposed and explored (see, e.g., Refs. [4–6]). These models can be roughly divided into\n",
      "two categories: the quintessence model with wDE>−1[7, 8] and the phantom model with\n",
      "wDE<−1[9, 10], which have different implications for the ultimate fate of the universe.\n",
      "Quintessence models generally predict that the universe will undergo an eternal expansion,\n",
      "while phantom models usually indicate that the universe will enter a super-accelerated ex-\n",
      "pansion phase and end in a finite time with a cosmic singularity known as big rip, where all\n",
      "structures will be torn apart. Recent observations seem to favor the phantom model over\n",
      "the quintessence model [9, 11–14]. Nonetheless, such discussions about wDErest upon the\n",
      "assumption that it is simply given by pDE/ρDE. This representation is purely phenomeno-\n",
      "logical and lacks underlying physics. To provide a more comprehensive understanding of\n",
      "the nature of DE including its temporal evolution or perturbation, a more fundamental\n",
      "framework should be considered. One approach involves introducing a dynamic scalar field\n",
      "as part of either the quintessence or phantom models, depending on the specific properties\n",
      "of its potential and kinetic terms[9]. In particular, the phantom scalar field model has at-\n",
      "tracted significant interests within the literature (see, e.g., Refs. [4, 13, 15] and the references\n",
      "therein).\n",
      "The studies of phantom models typically lead to discussions about the big rip singularity\n",
      "[16–25]. To address this issue, researchers have introduced modifications to DE based on\n",
      "quantum effects[26], geometric effects derived from modified gravities[27, 28], or interactions\n",
      "2between cosmic content[29, 30]. One way to introduce interactions involves considering the\n",
      "viscosity of each component. This approach accounts for the dissipative properties of real\n",
      "fluids. In particular, bulk viscosity is the most relevant for cosmology since we assume a\n",
      "homogenous and isotropic universe. This can be incorporated into the standard cosmological\n",
      "scheme by redefining the effective pressure peff=p−Π with a viscous pressure term Π to\n",
      "restore thermal equilibrium[31–33].\n",
      "Invoking viscosity in cosmology is proven to be useful to resolve or soften the cosmic\n",
      "singularity problem in different models [34–41]. Following this approach, it is shown that the\n",
      "singularity problem can be alleviated in the anisotropic phantom universe with viscosity[25].\n",
      "Moreover, an interacting phantom DE with dark matter induced by the viscous approach is\n",
      "shown to be able to avoid t\n",
      "----------------------------------------------------------------------------------------------------\n",
      "arXiv:2312.10971v1  [quant-ph]  18 Dec 2023Characterizing Klein-Fock-Gordon-Majorana particles in (1+1)\n",
      "dimensions\n",
      "Salvatore De Vincenzo1,∗\n",
      "1The Institute for Fundamental Study (IF),\n",
      "Naresuan University, Phitsanulok 65000, Thailand\n",
      "(Dated: November 27, 2023)\n",
      "Abstract Theoretically, in (1+1) dimensions, one can have Klein-Foc k-Gordon-\n",
      "Majorana (KFGM) particles. More precisely, these are one-d imensional (1D) Klein-\n",
      "Fock-Gordon (KFG) and Majorana particles at the same time. I n principle, the\n",
      "wave equations considered to describe such ﬁrst-quantized particles are the standard\n",
      "1D KFG equation and/or the 1D Feshbach-Villars (FV) equatio n, each with a real\n",
      "Lorentz scalar potential and some kind of Majorana conditio n. The aim of this paper\n",
      "is to analyze the latter assumption fully and systematicall y; additionally, we intro-\n",
      "duce speciﬁc equations and boundary conditions to characte rize these particles when\n",
      "they lie within an interval (or on a line with a tiny hole at a po int). In fact, we write\n",
      "ﬁrst-order equations in the time derivative that do not have a Hamiltonian form. We\n",
      "may refer to these equations as ﬁrst-order 1D Majorana equat ions for 1D KFGM\n",
      "particles. Moreover, each of them leads to a second-order eq uation in time that be-\n",
      "comes the standard 1D KFG equation when the scalar potential is independent of\n",
      "time. Additionally, we examine the nonrelativistic limit o f one of the ﬁrst-order 1D\n",
      "Majorana equations.\n",
      "PACS numbers: 03.65.-w, 03.65.Ca, 03.65.Db, 03.65.Pm\n",
      "Keywords: 1D Klein-Fock-Gordon-Majorana particles; 1D Kl ein-Fock-Gordon wave equa-\n",
      "tion; 1D Feshbach-Villars wave equation; 1D Majorana equat ions for the 1D Klein-Fock-\n",
      "Gordon-Majorana particle; pseudo-Hermitian operator; ps eudo self-adjoint operator; bound-\n",
      "ary conditions\n",
      "∗URL:https://orcid.org/0000-0002-5009-053X ; Electronic address: [salvatored@nu.ac.th]2\n",
      "I. INTRODUCTION\n",
      "In (3+1) dimensions, there is the possibility that a spin- 0particle is its own antiparticle. A\n",
      "typical example of this is the neutral pion (or neutral pi mes on)Π0(although it is not exactly\n",
      "an elementary particle) [1, 2]. We may refer to these particl es as three-dimensional (3D)\n",
      "Klein-Fock-Gordon-Majorana (KFGM) particles. We recall t hat, in general, a Majorana\n",
      "particle is its own antiparticle, i.e., it is a strictly neut ral particle [3], and the wavefunction\n",
      "that characterizes it is invariant under the respective cha rge-conjugation operation [4–6] (this\n",
      "is, in principle, within a phase factor). The latter speciﬁc fact is what deﬁnes a Majorana\n",
      "particle and is called the Majorana condition. Among the kno wn spin-1\n",
      "2particles, only\n",
      "neutrinos could be of a Majorana nature, i.e., only neutrino s could be Majorana fermions [7].\n",
      "Similarly, because photons (spin- 1) and gravitons (spin- 2) are also strictly neutral particles,\n",
      "we may say that they are also of a Majorana nature [7, 8]. Incid entally, completely diﬀerent\n",
      "types of Majorana particles can even be found in certain cond ensed-matter systems described\n",
      "in the second quantization formalism. These particles emer ge as quasiparticles excitations\n",
      "that are their own antiparticles and whose statistics is not fermionic [7, 9–12]. Incidentally,\n",
      "these excitations have been called Majorinos [13, 14].\n",
      "Thus, in the ﬁrst quantization, we may say that the primordia l wave equation intended to\n",
      "describe a strictly neutral 3D KFG spin- 0particle, i.e., a 3D KFGM spin- 0particle, is the 3D\n",
      "Klein-Fock-Gordon (KFG) equation in its standard form with a real-valued Lorentz scalar\n",
      "interaction (or potential) [1, 2, 15], but in addition, toge ther with some Majorana conditions.\n",
      "Likewise, the 3D Feshbach-Villars (FV) equation with the sc alar potential and the respective\n",
      "Majorana condition may also be used [16]. Naturally, this wa y of characterizing a 3D KFGM\n",
      "particle can also be implemented to describe a 1D KFGM partic le (the latter is a KFGM\n",
      "particle living in one space and one time dimension). Thus, i n this case, we may also use the\n",
      "1D KFG equation in its standard form and/or the 1D FV equation , both with a real-valued\n",
      "scalar potential together with their respective Majorana c ondition.\n",
      "The subject of neutral 3D KFG particles in the ﬁrst quantizat ion (as well as in the second\n",
      "quantization) is generally mentioned in books on relativis tic quantum mechanics [1–3, 17].\n",
      "Additionally, a neutral 3D KFG particle may not be equal to it s antiparticle, for example,\n",
      "a neutral K0meson (or neutral kaon) is diﬀerent from its antiparticle K0. In this case,\n",
      "these two particles carry diﬀerent internal attributes (in fact, diﬀerent hypercharges) and3\n",
      "can be described by (classical) complex ﬁelds or complex sol utions of the standard 3D KFG\n",
      "equation [1, 18]. However, if a neutral 3D KFG particle is equ al to its antiparticle, then\n",
      "there are no internal attributes that distinguish them; con sequently, they must be described\n",
      "by (classical) real ﬁelds or real solutions of the standard 3 D KFG equation, as usual [1, 3, 7].\n",
      "Incidentally, we have also \n",
      "----------------------------------------------------------------------------------------------------\n",
      "arXiv:2312.10972v1  [gr-qc]  18 Dec 2023Acausality in truncated ‘MIS’ - type theory\n",
      "Sukanya Mitra1,∗\n",
      "1School of Physical Sciences, National Institute of Science Education and Research,\n",
      "An OCC of Homi Bhabha National Institute, Jatni-752050, Ind ia.\n",
      "The causal-stable Muller-Israel-Stewart (MIS) theory is k nown to have ﬁnite numbers of out of\n",
      "equilibrium derivative order corrections but includes new degrees of freedom such as shear tensor\n",
      "apart from the fundamental ﬂuid degrees of freedom like velo city and temperature. In this work,\n",
      "it has been argued that it is possible to rewrite the MIS theor y only in terms of velocity and\n",
      "temperature, buttheresultantconstitutiverelation for d issipation mustincludeall orders ofgradient\n",
      "corrections. It has been further shown that any ﬁnitely trun cated order of derivative correction,\n",
      "however high it is, leads to a theory that is acausal, unless t he corrections are inﬁnitely summed up\n",
      "to all orders.\n",
      "I. INTRODUCTION\n",
      "Fluid dynamics is an eﬀective theory that describes\n",
      "the dynamics of a near equilibrium system by the evo-\n",
      "lution of the conserved ﬁelds at long wavelength limit\n",
      "[1,2]. The expectation values of these ﬁelds at equilib-\n",
      "rium deﬁnethe hydrodynamicstatevariableswhich serve\n",
      "as the fundamental ﬂuid degrees of freedom. The out of\n",
      "equilibrium dynamics is described in terms of the order\n",
      "by order gradient corrections of these ﬁelds. For a rela-\n",
      "tivistic system however, the ﬂuid theory needs to qualify\n",
      "some physical criteria such as causal wave propagation\n",
      "and stability against small perturbations. The relativis-\n",
      "ticversionofthelongestablishedﬁrstordertheories[ 1,3]\n",
      "turns out to suﬀer from the pathologies regarding super\n",
      "luminal signal propagation and thermodynamic instabil-\n",
      "ity. As a rescue, the higher order Muller-Israel-Stewart\n",
      "(MIS) theory [ 4–7] has been suggested to apply as the\n",
      "standard theory of relativistic dissipative ﬂuid dynamics\n",
      "[8–10].\n",
      "The MIS theory and the recent derivations of other\n",
      "analogous higher order theories [ 11–14] can serve as\n",
      "causal as well as stable hydrodynamic formalism with\n",
      "the fundamental ﬂuid variables like velocity and temper-\n",
      "aturebeinglocallyﬁxedtotheirequilibriumvaluesbythe\n",
      "Landau gauge condition. The price is paid by the limi-\n",
      "tation that these fundamental hydro ﬁelds are no more\n",
      "enough to describe the ﬂuid dynamics and additional de-\n",
      "grees of freedom are needed to be introduced. Hence,\n",
      "the dissipative ﬁelds in the MIS theory are promoted as\n",
      "the new degrees of freedom and attributed to their in-\n",
      "dividual equations of motion. Although this version of\n",
      "relativistic hydrodynamic theories have been quite pop-\n",
      "ular and phenomenologically successful especially in the\n",
      "context of high energy heavy ion data analysis [ 15], still\n",
      "the physical meaning of this new degrees of freedom re-\n",
      "mains somewhat questionable. These quantities do not\n",
      "relatetoanyconservedﬁelds. Inotherwords,theydonot\n",
      "have any equilibrium counterparts. Given the scenario,\n",
      "one might wonder if it is possible to have an equivalent\n",
      "∗sukanya.mitra@niser.ac.in“ﬂuid dynamical” description of MIS theory where the\n",
      "requirement of these non-ﬂuid new degrees of freedom\n",
      "can be eliminated. By “ﬂuid dynamical” here I mean\n",
      "that, (i) the constitutive relation of the stress tensor can\n",
      "be entirely written in the terms of temperature, velocity\n",
      "and their derivations and the only equations of motion\n",
      "are the stress tensor conservation, and (ii) the ﬂuid vari-\n",
      "ables such as velocity and temperature are ﬁxed by the\n",
      "Landau gauge such that there is no ambiguity in their\n",
      "deﬁnition.\n",
      "Motivated by this idea, in this work, I attempt to\n",
      "rewrite the MIS theory that obey causality and stabil-\n",
      "ity remaining in the Landau frame (such that the ﬁeld\n",
      "variables are well deﬁned) but without requiring any ad-\n",
      "ditional degrees of freedom. For simplicity, here a confor-\n",
      "mal system is considered without any conserved charges.\n",
      "We will see that it is indeed possible to generatethe iden-\n",
      "tical results of MIS theory only using the velocity and\n",
      "temperature as ﬂuid variables, iﬀ the constitutive rela-\n",
      "tion for the dissipation (here the shear tensor) runs up\n",
      "to inﬁnite orders of gradientcorrection. Then it has been\n",
      "argued that any ﬁnite order truncation of the derivative\n",
      "correction series immediately leads to acausality unless\n",
      "the dissipations are promoted as individual degrees of\n",
      "freedom or summed inﬁnitely.\n",
      "Throughout the manuscript, I have used natural\n",
      "unit (/planckover2pi1=c=kB= 1) and ﬂat space-time with mostly\n",
      "positive metric signature ηµν= diag(−1,1,1,1).\n",
      "II. MIS THEORY - AN ALL ORDER\n",
      "GRADIENT CORRECTION THEORY\n",
      "To set the chain of arguments, I start with the well\n",
      "known form of the the MIS equations of motion keeping\n",
      "up to the linear terms [ 16],\n",
      "∂µTµν= 0, Tµν=ε/parenleftbigg\n",
      "uµuν+1\n",
      "3∆µν/parenrightbigg\n",
      "+πµν,(1)\n",
      "πµν+τπDπµν=−2ησµν. (2)\n",
      "The conformal and uncharged energy-momentum tensor\n",
      "Tµνconsists of the equilibrium ﬁelds such as energy den-\n",
      "sityεand hydrodynamic velocity uµ(along with projec-2\n",
      "tion operator ∆µν=ηµν+uµuν) a\n",
      "----------------------------------------------------------------------------------------------------\n",
      "arXiv:2312.10973v1  [quant-ph]  18 Dec 2023Binary Quantum Random Number Generator Based on Value Indeﬁ nite Observables\n",
      "Cristian S. Calude1,∗and Karl Svozil2, †\n",
      "1School of Computer Science, University of Auckland, Privat e Bag 92019, Auckland, New Zealand\n",
      "2Institute for Theoretical Physics, TU Wien, Wiedner Haupts trasse 8-10/136, 1040 Vienna, Austria\n",
      "(Dated: December 19, 2023)\n",
      "All quantum random number generators based on measuring val ue indeﬁnite observables are at least three-\n",
      "dimensional because the Kochen-Specker Theorem and the Loc ated Kochen-Specker Theorem are false in di-\n",
      "mension two. In this article, we construct a quantum random n umber generator based on measuring a three-\n",
      "dimensional value indeﬁnite observable that generates bin ary quantum random outputs with the same random-\n",
      "ness qualities as the ternary ones: its outputs are maximall y unpredictable.\n",
      "Keywords: three-dimensional quantum random generator qua ntum, quantum value indeﬁnite observable, Kochen-Specker\n",
      "Theorem, Located Kochen-Specker Theorem, maximal unpredi ctable sequences\n",
      "I. INTRODUCTION\n",
      "All known quantum random number generators, which rely\n",
      "on measuring value-indeﬁnite observables [1–3] are three-\n",
      "dimensional. This is because the Kochen-Specker Theo-\n",
      "rem [4] and the Located Kochen-Specker Theorem [1, 5] are\n",
      "false in dimension two. In this article, we construct a quant um\n",
      "random generator based on measuring a three-dimensional\n",
      "value indeﬁnite observable generating binary quantum ran-\n",
      "dom outputs with the same randomness qualities as the ternar y\n",
      "ones; its outputs are maximally unpredictable [6]. Our resu lts\n",
      "inC3can easily be generalized to Cnwith n>3.\n",
      "This is possible because if we ﬁx a context CinCn,n>2\n",
      "and a value indeﬁnite observable E∈C(under a value assign-\n",
      "ment function v), then we can locate a value indeﬁnite ob-\n",
      "servable G∈Csuch that v(G)=∑E′∈C\\{E}v(E′). Hence, the\n",
      "measurements of the observables EandGproduce maximally\n",
      "unpredictable binary quantum random outputs.\n",
      "II. NOMENCLATURE AND DEFINITIONS\n",
      "Byn, we denote a positive integer greater than 1. We denote\n",
      "byCthe set of complex numbers and employ the standard\n",
      "quantum mechanical bra-ket notation. In this context, (uni t)\n",
      "vectors in the Hilbert space Cnare represented as |·/a\\}bracketri}ht. Our\n",
      "focus will be on one-dimensional projection observables. W e\n",
      "denote by Eψthe operator Eψ=|ψ/a\\}bracketri}ht/a\\}bracketle{tψ|/|/a\\}bracketle{tψ|ψ/a\\}bracketri}ht|projecting\n",
      "the Hilbert space Cnonto the linear subspace spanned by |ψ/a\\}bracketri}ht.\n",
      "In the following, we formalize hidden variables and the\n",
      "concept of value deﬁniteness as in [5].\n",
      "Fixn>1. Consider O⊆{Eψ||ψ/a\\}bracketri}ht∈Cn}, a nonempty set of\n",
      "one-dimensional projection observables on the Hilbert spa ce\n",
      "Cn. A set C⊂Ois acontext of OifChasnelements (that is,\n",
      "|C|=n), and for all Eψ,Eφ∈Cwith Eψ/\\e}atio\\slash=Eφ,/a\\}bracketle{tψ|φ/a\\}bracketri}ht=0.\n",
      "Since distinct one-dimensional projection observables co m-\n",
      "mute if and only if they project onto mutually orthogonal lin -\n",
      "ear subspaces, a context CofOis a maximal set of compati-\n",
      "ble one-dimensional projection observables on Cn. Due to the\n",
      "∗cristian@cs.auckland.ac.nz; http://www.cs.auckland.a c.nz/˜cristian\n",
      "†svozil@tuwien.ac.at; http://tph.tuwien.ac.at/˜svozilcorrespondence (up to a phase-shift) between unit vectors a nd\n",
      "one-dimensional projection observables, a context is uniq uely\n",
      "deﬁned by an orthonormal basis of Cn.\n",
      "A function is partial if it may be undeﬁned for some val-\n",
      "ues; a function deﬁned everywhere is called total. The squar e\n",
      "root operation on the real numbers is partial because nega-\n",
      "tive real numbers do not have real square roots. Partial func -\n",
      "tions were introduced in computability theory in 1930s [7–9 ]\n",
      "to model non-halting computations; they were used in quan-\n",
      "tum physics in [1]. A value assignment function (on O)is a\n",
      "partial two-valued function v:O→{0,1}, assigning values to\n",
      "some (possibly all) observables in O. While we could allow\n",
      "vto be a function of both the observable Eand the context C\n",
      "containing E, enabling contextual value assignments, for the\n",
      "sake of compactness, we deﬁne vas a noncontextual value\n",
      "assignment function, that is, v(E,C)=v(E).\n",
      "An observable E∈Oisvalue deﬁnite (under v) ifv(E)is\n",
      "deﬁned; otherwise, it is value indeﬁnite (under v) . Similarly,\n",
      "a context Ois considered value deﬁnite (under v) if every ob-\n",
      "servable E∈Ois value deﬁnite.\n",
      "LetObe a set of one-dimensional projection observables\n",
      "onCn, and let v:O→{0,1}be a value assignment function.\n",
      "Then, visadmissible if the following two conditions hold for\n",
      "every context CofO:\n",
      "(a)Exclusivity: If there exists an E∈Cwith v(E)=1, then\n",
      "v(E′)=0 for all E′∈C\\{E}.\n",
      "(b)Completeness: If there exists a E∈Cwith v(E′) =0,\n",
      "for all E′∈C\\{E}, then v(E)=1.\n",
      "Admissibility is a weaker requirement than the usual as-\n",
      "sumption of the existence of a two-valued state—a total valu e\n",
      "assignment—because fewer than n−1 elements in a context\n",
      "onCnmay be assigned the value 0, and no element is assigned\n",
      "the value 1. If the va\n",
      "----------------------------------------------------------------------------------------------------\n"
     ]
    }
   ],
   "source": [
    "for text in extracted_texts[:10]:\n",
    "    print(text)\n",
    "    print('-' * 100)"
   ]
  },
  {
   "cell_type": "code",
   "execution_count": 5,
   "id": "1027419d-dbf7-44ca-bbbe-761be2e45baa",
   "metadata": {
    "tags": []
   },
   "outputs": [],
   "source": [
    "import torch.nn.functional as F\n",
    "import torch\n",
    "\n",
    "# def calculate_total_perplexity(logits, target_token_ids):\n",
    "#     shifted_logits = logits[:-1, :]\n",
    "#     shifted_targets = target_token_ids[1:]\n",
    "#     average_loss = F.cross_entropy(shifted_logits, shifted_targets, reduction='mean')\n",
    "\n",
    "#     perplexity = torch.exp(average_loss).item()\n",
    "\n",
    "#     return perplexity\n",
    "\n",
    "def calculate_log_sum(logits, target_token_ids):\n",
    "    shifted_logits = logits[:-1, :]\n",
    "    shifted_targets = target_token_ids[1:]\n",
    "    \n",
    "    log_probs = F.log_softmax(shifted_logits, dim=-1)\n",
    "    \n",
    "    target_log_probs = -log_probs.gather(1, shifted_targets.unsqueeze(1)).squeeze()\n",
    "    # print(target_log_probs)\n",
    "    \n",
    "    # perplexity = torch.exp(-sum_log_prob).item()\n",
    "    log_sum = torch.sum(target_log_probs, dim=-1)\n",
    "    # print(perplexity_sum)\n",
    "\n",
    "    # return perplexity\n",
    "    return log_sum.item()"
   ]
  },
  {
   "cell_type": "markdown",
   "id": "a398f38c-0bb9-495e-b441-7ea0843d51bc",
   "metadata": {},
   "source": [
    "## RWKV-5 1.5B"
   ]
  },
  {
   "cell_type": "code",
   "execution_count": 6,
   "id": "0dd07c3c-bdb3-4c36-bff8-acbc7923c280",
   "metadata": {
    "tags": []
   },
   "outputs": [
    {
     "name": "stderr",
     "output_type": "stream",
     "text": [
      "Using /root/.cache/torch_extensions/py38_cu118 as PyTorch extensions root...\n",
      "Detected CUDA files, patching ldflags\n",
      "Emitting ninja build file /root/.cache/torch_extensions/py38_cu118/wkv_cuda/build.ninja...\n",
      "Building extension module wkv_cuda...\n",
      "Allowing ninja to set a default number of workers... (overridable by setting the environment variable MAX_JOBS=N)\n",
      "Loading extension module wkv_cuda...\n"
     ]
    },
    {
     "name": "stdout",
     "output_type": "stream",
     "text": [
      "ninja: no work to do.\n"
     ]
    }
   ],
   "source": [
    "os.environ['RWKV_JIT_ON'] = '1'\n",
    "os.environ[\"RWKV_CUDA_ON\"] = '1'\n",
    "\n",
    "from rwkv.model import RWKV\n",
    "from rwkv.utils import PIPELINE"
   ]
  },
  {
   "cell_type": "code",
   "execution_count": 7,
   "id": "696a73f7-8e30-49f2-8589-c231923e19d9",
   "metadata": {
    "scrolled": true,
    "tags": []
   },
   "outputs": [
    {
     "name": "stdout",
     "output_type": "stream",
     "text": [
      "RWKV_JIT_ON 1 RWKV_CUDA_ON 1 RESCALE_LAYER 6\n",
      "\n",
      "Loading ./models/models--BlinkDL--rwkv-5-world/snapshots/54a28319ff63b17f933975a58ab66010ba534fc0/RWKV-5-World-1B5-v2-20231025-ctx4096.pth ...\n",
      "Model detected: v5.2\n",
      "Strategy: (total 24+1=25 layers)\n",
      "* cuda [float16, float16], store 25 layers\n",
      "0-cuda-float16-float16 1-cuda-float16-float16 2-cuda-float16-float16 3-cuda-float16-float16 4-cuda-float16-float16 5-cuda-float16-float16 6-cuda-float16-float16 7-cuda-float16-float16 8-cuda-float16-float16 9-cuda-float16-float16 10-cuda-float16-float16 11-cuda-float16-float16 12-cuda-float16-float16 13-cuda-float16-float16 14-cuda-float16-float16 15-cuda-float16-float16 16-cuda-float16-float16 17-cuda-float16-float16 18-cuda-float16-float16 19-cuda-float16-float16 20-cuda-float16-float16 21-cuda-float16-float16 22-cuda-float16-float16 23-cuda-float16-float16 24-cuda-float16-float16 \n",
      "emb.weight                        f16      cpu  65536  2048 \n",
      "blocks.0.ln1.weight               f16   cuda:0   2048       \n",
      "blocks.0.ln1.bias                 f16   cuda:0   2048       \n",
      "blocks.0.ln2.weight               f16   cuda:0   2048       \n",
      "blocks.0.ln2.bias                 f16   cuda:0   2048       \n",
      "blocks.0.att.time_mix_k           f16   cuda:0   2048       \n",
      "blocks.0.att.time_mix_v           f16   cuda:0   2048       \n",
      "blocks.0.att.time_mix_r           f16   cuda:0   2048       \n",
      "blocks.0.att.time_mix_g           f16   cuda:0   2048       \n",
      "blocks.0.att.time_decay           f32   cuda:0     32    64 \n",
      "blocks.0.att.time_first           f32   cuda:0     32    64 \n",
      "blocks.0.att.receptance.weight    f16   cuda:0   2048  2048 \n",
      "blocks.0.att.key.weight           f16   cuda:0   2048  2048 \n",
      "blocks.0.att.value.weight         f16   cuda:0   2048  2048 \n",
      "blocks.0.att.output.weight        f16   cuda:0   2048  2048 \n",
      "blocks.0.att.gate.weight          f16   cuda:0   2048  2048 \n",
      "blocks.0.att.ln_x.weight          f32   cuda:0   2048       \n",
      "blocks.0.att.ln_x.bias            f32   cuda:0   2048       \n",
      "blocks.0.ffn.time_mix_k           f16   cuda:0   2048       \n",
      "blocks.0.ffn.time_mix_r           f16   cuda:0   2048       \n",
      "blocks.0.ffn.key.weight           f16   cuda:0   2048  7168 \n",
      "blocks.0.ffn.receptance.weight    f16   cuda:0   2048  2048 \n",
      "blocks.0.ffn.value.weight         f16   cuda:0   7168  2048 \n",
      "....................................................................................................................................................................................................................................................................................................................................................................................................................................................................................................\n",
      "blocks.23.ln1.weight              f16   cuda:0   2048       \n",
      "blocks.23.ln1.bias                f16   cuda:0   2048       \n",
      "blocks.23.ln2.weight              f16   cuda:0   2048       \n",
      "blocks.23.ln2.bias                f16   cuda:0   2048       \n",
      "blocks.23.att.time_mix_k          f16   cuda:0   2048       \n",
      "blocks.23.att.time_mix_v          f16   cuda:0   2048       \n",
      "blocks.23.att.time_mix_r          f16   cuda:0   2048       \n",
      "blocks.23.att.time_mix_g          f16   cuda:0   2048       \n",
      "blocks.23.att.time_decay          f32   cuda:0     32    64 \n",
      "blocks.23.att.time_first          f32   cuda:0     32    64 \n",
      "blocks.23.att.receptance.weight   f16   cuda:0   2048  2048 \n",
      "blocks.23.att.key.weight          f16   cuda:0   2048  2048 \n",
      "blocks.23.att.value.weight        f16   cuda:0   2048  2048 \n",
      "blocks.23.att.output.weight       f16   cuda:0   2048  2048 \n",
      "blocks.23.att.gate.weight         f16   cuda:0   2048  2048 \n",
      "blocks.23.att.ln_x.weight         f32   cuda:0   2048       \n",
      "blocks.23.att.ln_x.bias           f32   cuda:0   2048       \n",
      "blocks.23.ffn.time_mix_k          f16   cuda:0   2048       \n",
      "blocks.23.ffn.time_mix_r          f16   cuda:0   2048       \n",
      "blocks.23.ffn.key.weight          f16   cuda:0   2048  7168 \n",
      "blocks.23.ffn.receptance.weight   f16   cuda:0   2048  2048 \n",
      "blocks.23.ffn.value.weight        f16   cuda:0   7168  2048 \n",
      "ln_out.weight                     f16   cuda:0   2048       \n",
      "ln_out.bias                       f16   cuda:0   2048       \n",
      "head.weight                       f16   cuda:0   2048 65536 \n"
     ]
    },
    {
     "name": "stderr",
     "output_type": "stream",
     "text": [
      "Using /root/.cache/torch_extensions/py38_cu118 as PyTorch extensions root...\n",
      "Detected CUDA files, patching ldflags\n",
      "Emitting ninja build file /root/.cache/torch_extensions/py38_cu118/rwkv5/build.ninja...\n",
      "Building extension module rwkv5...\n",
      "Allowing ninja to set a default number of workers... (overridable by setting the environment variable MAX_JOBS=N)\n"
     ]
    },
    {
     "name": "stdout",
     "output_type": "stream",
     "text": [
      "ninja: no work to do.\n"
     ]
    },
    {
     "name": "stderr",
     "output_type": "stream",
     "text": [
      "Loading extension module rwkv5...\n"
     ]
    }
   ],
   "source": [
    "rwkv5_1b5_path = r'./models/models--BlinkDL--rwkv-5-world/snapshots/54a28319ff63b17f933975a58ab66010ba534fc0/RWKV-5-World-1B5-v2-20231025-ctx4096.pth'\n",
    "\n",
    "rwkv5_1b5 = RWKV(model=rwkv5_1b5_path, strategy='cuda fp16')\n",
    "pipeline = PIPELINE(rwkv5_1b5, r\"rwkv_vocab_v20230424\")\n",
    "rwkv_tokenizer = pipeline.tokenizer"
   ]
  },
  {
   "cell_type": "code",
   "execution_count": 8,
   "id": "431047af-a6bb-4cd7-bd91-d3a9e354e166",
   "metadata": {
    "tags": []
   },
   "outputs": [],
   "source": [
    "max_length = 4096"
   ]
  },
  {
   "cell_type": "code",
   "execution_count": 9,
   "id": "a05390bc-11be-4bb9-9827-6d171bac5b7e",
   "metadata": {
    "scrolled": true,
    "tags": []
   },
   "outputs": [
    {
     "data": {
      "application/json": {
       "ascii": false,
       "bar_format": null,
       "colour": null,
       "elapsed": 0.011543512344360352,
       "initial": 0,
       "n": 0,
       "ncols": null,
       "nrows": null,
       "postfix": null,
       "prefix": "",
       "rate": null,
       "total": 1000,
       "unit": "it",
       "unit_divisor": 1000,
       "unit_scale": false
      },
      "application/vnd.jupyter.widget-view+json": {
       "model_id": "63a7cc2eb97245658fbf402fc72ba358",
       "version_major": 2,
       "version_minor": 0
      },
      "text/plain": [
       "  0%|          | 0/1000 [00:00<?, ?it/s]"
      ]
     },
     "metadata": {},
     "output_type": "display_data"
    },
    {
     "name": "stderr",
     "output_type": "stream",
     "text": [
      "/root/miniconda3/lib/python3.8/site-packages/rwkv/model.py:957: UserWarning: operator() profile_node %318 : int = prim::profile_ivalue(%316)\n",
      " does not have profile information (Triggered internally at ../third_party/nvfuser/csrc/graph_fuser.cpp:104.)\n",
      "  r, k, v, g, xxx, ss = self.v5_2_before(x, sx, s, ln_w, ln_b, lx_w, lx_b, k_mix, v_mix, r_mix, g_mix, t_decay, t_first, kw, vw, rw, gw, ow, kmx, krx, kmy, kry, vmx, vrx, vmy, vry, rmx, rrx, rmy, rry, gmx, grx, gmy, gry, omx, orx, omy, ory)\n",
      "/tmp/ipykernel_11145/24350323.py:14: UserWarning: seq-494 length > 4096\n",
      "  warnings.warn(f'seq-{idx} length > {max_length}')\n"
     ]
    }
   ],
   "source": [
    "rwkv_test_data = []\n",
    "rwkv_token_length_list = []\n",
    "overlong_seq = 0\n",
    "\n",
    "for idx, sample in tqdm(enumerate(extracted_texts), total=len(extracted_texts)):\n",
    "    \n",
    "    with torch.no_grad():\n",
    "        \n",
    "        input_seq = rwkv_tokenizer.encode(sample)\n",
    "\n",
    "        if len(input_seq) > max_length:\n",
    "            # print(f'length > {max_length}')\n",
    "            overlong_seq += 1\n",
    "            warnings.warn(f'seq-{idx} length > {max_length}')\n",
    "            # input_seq = input_seq[:max_length]\n",
    "\n",
    "        logit = rwkv5_1b5.forward(input_seq, None, full_output=True)[0]\n",
    "\n",
    "        log_sum = calculate_log_sum(logit, torch.tensor(input_seq).cuda())\n",
    "\n",
    "        rwkv_token_length_list.append(len(input_seq))\n",
    "        rwkv_test_data.append(log_sum)"
   ]
  },
  {
   "cell_type": "code",
   "execution_count": 10,
   "id": "16e45040-aba8-4cae-8ac7-9ffc1bff9dd0",
   "metadata": {
    "tags": []
   },
   "outputs": [
    {
     "name": "stdout",
     "output_type": "stream",
     "text": [
      "log probability sum: 2716.632776611328\n",
      "avg tokens: 1194.052\n",
      "overlong_seq: 1\n"
     ]
    }
   ],
   "source": [
    "print(f'log probability sum: {sum(rwkv_test_data) / len(rwkv_test_data)}')\n",
    "print(f'avg tokens: {sum(rwkv_token_length_list) / len(rwkv_token_length_list)}')\n",
    "print(f'overlong_seq: {overlong_seq}')"
   ]
  },
  {
   "cell_type": "code",
   "execution_count": 11,
   "id": "23cc8a1a-d2e0-49c1-a6b4-c314afe1f2d4",
   "metadata": {
    "tags": []
   },
   "outputs": [],
   "source": [
    "import gc\n",
    "\n",
    "del rwkv5_1b5\n",
    "del pipeline, rwkv_tokenizer, logit\n",
    "\n",
    "gc.collect()\n",
    "torch.cuda.empty_cache()"
   ]
  },
  {
   "cell_type": "markdown",
   "id": "01af7c39-a166-4c36-bd54-f17584dbf2fe",
   "metadata": {},
   "source": [
    "## Qwen 1.8B"
   ]
  },
  {
   "cell_type": "code",
   "execution_count": 12,
   "id": "c6094ba0-e7df-4e11-8b8f-8f07c11b318d",
   "metadata": {
    "tags": []
   },
   "outputs": [
    {
     "name": "stderr",
     "output_type": "stream",
     "text": [
      "The model is automatically converting to bf16 for faster inference. If you want to disable the automatic precision, please manually add bf16/fp16/fp32=True to \"AutoModelForCausalLM.from_pretrained\".\n",
      "Try importing flash-attention for faster inference...\n",
      "Warning: import flash_attn rotary fail, please install FlashAttention rotary to get higher efficiency https://github.com/Dao-AILab/flash-attention/tree/main/csrc/rotary\n",
      "Warning: import flash_attn rms_norm fail, please install FlashAttention layer_norm to get higher efficiency https://github.com/Dao-AILab/flash-attention/tree/main/csrc/layer_norm\n",
      "Warning: import flash_attn fail, please install FlashAttention to get higher efficiency https://github.com/Dao-AILab/flash-attention\n"
     ]
    },
    {
     "data": {
      "application/json": {
       "ascii": false,
       "bar_format": null,
       "colour": null,
       "elapsed": 0.006068229675292969,
       "initial": 0,
       "n": 0,
       "ncols": null,
       "nrows": null,
       "postfix": null,
       "prefix": "Loading checkpoint shards",
       "rate": null,
       "total": 2,
       "unit": "it",
       "unit_divisor": 1000,
       "unit_scale": false
      },
      "application/vnd.jupyter.widget-view+json": {
       "model_id": "ca9f02d053a3440ca1dfafeeee87e121",
       "version_major": 2,
       "version_minor": 0
      },
      "text/plain": [
       "Loading checkpoint shards:   0%|          | 0/2 [00:00<?, ?it/s]"
      ]
     },
     "metadata": {},
     "output_type": "display_data"
    }
   ],
   "source": [
    "from transformers import AutoModelForCausalLM, AutoTokenizer\n",
    "\n",
    "qwen_path = r'./models/models--Qwen--Qwen-1_8B/snapshots/fa6e214ccbbc6a55235c26ef406355b6bfdf5eed/'\n",
    "\n",
    "# Note: The default behavior now has injection attack prevention off.\n",
    "qwen_tokenizer = AutoTokenizer.from_pretrained(qwen_path, trust_remote_code=True)\n",
    "\n",
    "# use bf16\n",
    "# model = AutoModelForCausalLM.from_pretrained(\"Qwen/Qwen-1_8B\", device_map=\"auto\", trust_remote_code=True, bf16=True).eval()\n",
    "# use fp16\n",
    "# model = AutoModelForCausalLM.from_pretrained(\"Qwen/Qwen-1_8B\", device_map=\"auto\", trust_remote_code=True, fp16=True).eval()\n",
    "# use cpu only\n",
    "# model = AutoModelForCausalLM.from_pretrained(\"Qwen/Qwen-1_8B\", device_map=\"cpu\", trust_remote_code=True).eval()\n",
    "# use auto mode, automatically select precision based on the device.\n",
    "qwen_1b8 = AutoModelForCausalLM.from_pretrained(qwen_path, device_map=\"auto\", trust_remote_code=True).eval()\n",
    "\n",
    "# Specify hyperparameters for generation. But if you use transformers>=4.32.0, there is no need to do this.\n",
    "# model.generation_config = GenerationConfig.from_pretrained(\"Qwen/Qwen-1_8B\", trust_remote_code=True)\n",
    "\n",
    "# inputs = tokenizer('蒙古国的首都是乌兰巴托（Ulaanbaatar）\\n冰岛的首都是雷克雅未克（Reykjavik）\\n埃塞俄比亚的首都是', return_tensors='pt')\n",
    "# inputs = inputs.to(model.device)\n",
    "# pred = model.generate(**inputs)\n",
    "# print(tokenizer.decode(pred.cpu()[0], skip_special_tokens=True))\n",
    "# # 蒙古国的首都是乌兰巴托（Ulaanbaatar）\\n冰岛的首都是雷克雅未克（Reykjavik）\\n埃塞俄比亚的首都是亚的斯亚贝巴（Addis Ababa）...\n"
   ]
  },
  {
   "cell_type": "code",
   "execution_count": 13,
   "id": "d485da66-feb6-436d-bd9b-902e9cda4cfd",
   "metadata": {
    "tags": []
   },
   "outputs": [],
   "source": [
    "max_length = 8192"
   ]
  },
  {
   "cell_type": "code",
   "execution_count": 14,
   "id": "08b13eb9-7c88-40e3-8cc1-8dddf092d014",
   "metadata": {
    "scrolled": true,
    "tags": []
   },
   "outputs": [
    {
     "data": {
      "application/json": {
       "ascii": false,
       "bar_format": null,
       "colour": null,
       "elapsed": 0.008640289306640625,
       "initial": 0,
       "n": 0,
       "ncols": null,
       "nrows": null,
       "postfix": null,
       "prefix": "",
       "rate": null,
       "total": 1000,
       "unit": "it",
       "unit_divisor": 1000,
       "unit_scale": false
      },
      "application/vnd.jupyter.widget-view+json": {
       "model_id": "a55cd79acb774e6083a5523f60accf06",
       "version_major": 2,
       "version_minor": 0
      },
      "text/plain": [
       "  0%|          | 0/1000 [00:00<?, ?it/s]"
      ]
     },
     "metadata": {},
     "output_type": "display_data"
    }
   ],
   "source": [
    "qwen_test_data = []\n",
    "qwen_token_length_list = []\n",
    "overlong_seq = 0\n",
    "\n",
    "for idx, sample in tqdm(enumerate(extracted_texts), total=len(extracted_texts)):\n",
    "    \n",
    "    with torch.no_grad():\n",
    "    \n",
    "        inputs = qwen_tokenizer(sample, return_tensors='pt')\n",
    "        inputs = inputs.to(qwen_1b8.device)\n",
    "\n",
    "        seq_length = inputs['input_ids'].shape[-1]\n",
    "\n",
    "        if seq_length > max_length:\n",
    "            # print(f'length > {max_length}')\n",
    "            # inputs = qwen_tokenizer(sample, return_tensors='pt', truncation=True)\n",
    "            overlong_seq += 1\n",
    "            warnings.warn(f'seq-{idx} length > {max_length}')\n",
    "\n",
    "        logit = qwen_1b8.forward(**inputs).logits[0, :, :]\n",
    "\n",
    "        log_sum = calculate_log_sum(logit, inputs['input_ids'].squeeze(0))\n",
    "\n",
    "        qwen_token_length_list.append(seq_length)\n",
    "        qwen_test_data.append(log_sum)"
   ]
  },
  {
   "cell_type": "code",
   "execution_count": 15,
   "id": "c1a2a226-e29f-40ce-ac21-0cbf61e7959d",
   "metadata": {
    "tags": []
   },
   "outputs": [
    {
     "name": "stdout",
     "output_type": "stream",
     "text": [
      "log probability sum: 2999.704\n",
      "avg tokens: 1179.163\n",
      "overlong_seq: 0\n"
     ]
    }
   ],
   "source": [
    "print(f'log probability sum: {sum(qwen_test_data) / len(qwen_test_data)}')\n",
    "print(f'avg tokens: {sum(qwen_token_length_list) / len(qwen_token_length_list)}')\n",
    "print(f'overlong_seq: {overlong_seq}')"
   ]
  },
  {
   "cell_type": "code",
   "execution_count": 16,
   "id": "7339f42e-19e3-43db-acff-55a0c4ac613f",
   "metadata": {
    "tags": []
   },
   "outputs": [],
   "source": [
    "import gc\n",
    "\n",
    "del qwen_1b8, inputs, logit\n",
    "\n",
    "gc.collect()\n",
    "torch.cuda.empty_cache()"
   ]
  },
  {
   "cell_type": "markdown",
   "id": "5f22d975-d0a3-40ec-af1c-ab4b12da5a0a",
   "metadata": {},
   "source": [
    "## Falcon 1.3B"
   ]
  },
  {
   "cell_type": "code",
   "execution_count": 17,
   "id": "f00e3e28-9269-49cd-bf93-da976168e52c",
   "metadata": {
    "tags": []
   },
   "outputs": [],
   "source": [
    "from transformers import AutoTokenizer, AutoModelForCausalLM\n",
    "import transformers\n",
    "import torch\n",
    "import gc\n",
    "\n",
    "falcon_path = r\"./models/models--tiiuae--falcon-rw-1b/snapshots/e4b9872bb803165eb22f0a867d4e6a64d34fce19/\"\n",
    "\n",
    "falcon_tokenizer = AutoTokenizer.from_pretrained(falcon_path)\n",
    "falcon_1b3 = AutoModelForCausalLM.from_pretrained(falcon_path, device_map=\"auto\", trust_remote_code=True).eval()"
   ]
  },
  {
   "cell_type": "code",
   "execution_count": 18,
   "id": "5f49529f-53e1-47f8-9f7a-be6a37a2cdd1",
   "metadata": {
    "tags": []
   },
   "outputs": [],
   "source": [
    "max_length = 2048\n",
    "truncation_length = 4096"
   ]
  },
  {
   "cell_type": "code",
   "execution_count": 19,
   "id": "8c378bce-40a2-403a-9117-0ef0a55ef5e9",
   "metadata": {
    "scrolled": true,
    "tags": []
   },
   "outputs": [
    {
     "data": {
      "application/json": {
       "ascii": false,
       "bar_format": null,
       "colour": null,
       "elapsed": 0.008498430252075195,
       "initial": 0,
       "n": 0,
       "ncols": null,
       "nrows": null,
       "postfix": null,
       "prefix": "",
       "rate": null,
       "total": 1000,
       "unit": "it",
       "unit_divisor": 1000,
       "unit_scale": false
      },
      "application/vnd.jupyter.widget-view+json": {
       "model_id": "0f16d4e3cd7e440480d8d1823b1cc39f",
       "version_major": 2,
       "version_minor": 0
      },
      "text/plain": [
       "  0%|          | 0/1000 [00:00<?, ?it/s]"
      ]
     },
     "metadata": {},
     "output_type": "display_data"
    },
    {
     "name": "stderr",
     "output_type": "stream",
     "text": [
      "Token indices sequence length is longer than the specified maximum sequence length for this model (1132 > 1024). Running this sequence through the model will result in indexing errors\n",
      "/tmp/ipykernel_11145/1899047759.py:20: UserWarning: seq-409 length 5220 > truncation_length(2048) truncated\n",
      "  warnings.warn(f'seq-{idx} length {seq_length} > truncation_length({max_length}) truncated')\n",
      "/tmp/ipykernel_11145/1899047759.py:20: UserWarning: seq-494 length 8666 > truncation_length(2048) truncated\n",
      "  warnings.warn(f'seq-{idx} length {seq_length} > truncation_length({max_length}) truncated')\n"
     ]
    }
   ],
   "source": [
    "falcon_test_data = []\n",
    "falcon_token_length_list = []\n",
    "overlong_seq = 0\n",
    "\n",
    "for idx, sample in tqdm(enumerate(extracted_texts), total=len(extracted_texts)):\n",
    "    \n",
    "    with torch.no_grad():\n",
    "    \n",
    "        inputs = falcon_tokenizer(sample, return_tensors='pt')\n",
    "        inputs = inputs.to(falcon_1b3.device)\n",
    "\n",
    "        seq_length = inputs['input_ids'].shape[-1]\n",
    "        \n",
    "        if seq_length > max_length:\n",
    "            overlong_seq += 1\n",
    "            # warnings.warn(f'seq-{idx} length {seq_length} > max_length({max_length})')\n",
    "        if seq_length > truncation_length:\n",
    "            inputs = falcon_tokenizer(sample, return_tensors='pt', max_length=truncation_length, truncation=True)\n",
    "            inputs = inputs.to(falcon_1b3.device)\n",
    "            warnings.warn(f'seq-{idx} length {seq_length} > truncation_length({max_length}) truncated')\n",
    "            # print(inputs['input_ids'].shape[-1])\n",
    "\n",
    "        logit = falcon_1b3.forward(**inputs).logits[0, :, :]\n",
    "\n",
    "        log_sum = calculate_log_sum(logit, inputs['input_ids'].squeeze(0))\n",
    "\n",
    "        falcon_token_length_list.append(seq_length)\n",
    "        falcon_test_data.append(log_sum)"
   ]
  },
  {
   "cell_type": "code",
   "execution_count": 20,
   "id": "201837db-deb3-4b28-8610-7f3e7cdc6ad9",
   "metadata": {
    "tags": []
   },
   "outputs": [
    {
     "name": "stdout",
     "output_type": "stream",
     "text": [
      "log probability sum: 3042.29790625\n",
      "avg tokens: 1229.174\n",
      "overlong_seq: 6\n"
     ]
    }
   ],
   "source": [
    "falcon_1b3_log_sum = sum(falcon_test_data) / len(falcon_test_data)\n",
    "falcon_1b3_avg_length = sum(falcon_token_length_list) / len(falcon_token_length_list)\n",
    "print(f'log probability sum: {falcon_1b3_log_sum}')\n",
    "print(f'avg tokens: {falcon_1b3_avg_length}')\n",
    "print(f'overlong_seq: {overlong_seq}')"
   ]
  },
  {
   "cell_type": "code",
   "execution_count": 21,
   "id": "e7df43be-f092-485e-bc3a-557675107dd1",
   "metadata": {
    "tags": []
   },
   "outputs": [],
   "source": [
    "import gc\n",
    "\n",
    "del falcon_1b3, inputs, logit\n",
    "\n",
    "gc.collect()\n",
    "torch.cuda.empty_cache()"
   ]
  },
  {
   "cell_type": "markdown",
   "id": "0b675613-3510-4b8c-96d7-4eeea0e184fd",
   "metadata": {},
   "source": [
    "## Mamba 1.4B"
   ]
  },
  {
   "cell_type": "code",
   "execution_count": 22,
   "id": "ae5e563b-a4f7-4d30-a7c1-fcc0c05feb33",
   "metadata": {
    "tags": []
   },
   "outputs": [
    {
     "name": "stderr",
     "output_type": "stream",
     "text": [
      "huggingface/tokenizers: The current process just got forked, after parallelism has already been used. Disabling parallelism to avoid deadlocks...\n",
      "To disable this warning, you can either:\n",
      "\t- Avoid using `tokenizers` before the fork if possible\n",
      "\t- Explicitly set the environment variable TOKENIZERS_PARALLELISM=(true | false)\n",
      "Special tokens have been added in the vocabulary, make sure the associated word embeddings are fine-tuned or trained.\n"
     ]
    }
   ],
   "source": [
    "from transformers import AutoTokenizer, AutoModelForCausalLM\n",
    "\n",
    "from mamba_ssm.models.mixer_seq_simple import MambaLMHeadModel\n",
    "\n",
    "device = \"cuda\"\n",
    "\n",
    "mamba_tokenizer = AutoTokenizer.from_pretrained(\"EleutherAI/gpt-neox-20b\")\n",
    "mamba_1b4 = MambaLMHeadModel.from_pretrained(\"state-spaces/mamba-1.4b\", device=device, dtype=torch.float16)"
   ]
  },
  {
   "cell_type": "code",
   "execution_count": 23,
   "id": "10b7e299-2bf6-4e64-a1f8-87fc49266bdb",
   "metadata": {
    "tags": []
   },
   "outputs": [],
   "source": [
    "max_length = 2048"
   ]
  },
  {
   "cell_type": "code",
   "execution_count": 24,
   "id": "e9ee6656-d411-4d00-9d22-bef9d6777c1b",
   "metadata": {
    "scrolled": true,
    "tags": []
   },
   "outputs": [
    {
     "data": {
      "application/json": {
       "ascii": false,
       "bar_format": null,
       "colour": null,
       "elapsed": 0.00906682014465332,
       "initial": 0,
       "n": 0,
       "ncols": null,
       "nrows": null,
       "postfix": null,
       "prefix": "",
       "rate": null,
       "total": 1000,
       "unit": "it",
       "unit_divisor": 1000,
       "unit_scale": false
      },
      "application/vnd.jupyter.widget-view+json": {
       "model_id": "7c8b632be2da4be4990898dc73666e37",
       "version_major": 2,
       "version_minor": 0
      },
      "text/plain": [
       "  0%|          | 0/1000 [00:00<?, ?it/s]"
      ]
     },
     "metadata": {},
     "output_type": "display_data"
    },
    {
     "name": "stderr",
     "output_type": "stream",
     "text": [
      "/tmp/ipykernel_11145/4273580554.py:16: UserWarning: seq-409 length 2517 > truncation_length(2048)\n",
      "  warnings.warn(f'seq-{idx} length {seq_length} > truncation_length({max_length})')\n",
      "/tmp/ipykernel_11145/4273580554.py:16: UserWarning: seq-484 length 2706 > truncation_length(2048)\n",
      "  warnings.warn(f'seq-{idx} length {seq_length} > truncation_length({max_length})')\n",
      "/tmp/ipykernel_11145/4273580554.py:16: UserWarning: seq-494 length 6119 > truncation_length(2048)\n",
      "  warnings.warn(f'seq-{idx} length {seq_length} > truncation_length({max_length})')\n",
      "/tmp/ipykernel_11145/4273580554.py:16: UserWarning: seq-708 length 2360 > truncation_length(2048)\n",
      "  warnings.warn(f'seq-{idx} length {seq_length} > truncation_length({max_length})')\n"
     ]
    }
   ],
   "source": [
    "mamba_test_data = []\n",
    "mamba_token_length_list = []\n",
    "overlong_seq = 0\n",
    "\n",
    "for idx, sample in tqdm(enumerate(extracted_texts), total=len(extracted_texts)):\n",
    "    \n",
    "    with torch.no_grad():\n",
    "        \n",
    "        inputs = mamba_tokenizer(sample, return_tensors=\"pt\").input_ids.to(device=device)\n",
    "\n",
    "        seq_length = inputs.shape[-1]\n",
    "\n",
    "        if seq_length > max_length:\n",
    "            # print(f'length > {max_length}')\n",
    "            overlong_seq += 1\n",
    "            warnings.warn(f'seq-{idx} length {seq_length} > truncation_length({max_length})')\n",
    "\n",
    "        mamba_output = mamba_1b4.forward(inputs)\n",
    "        logit = mamba_output.logits[0, :, :]\n",
    "\n",
    "        log_sum = calculate_log_sum(logit, inputs[0])\n",
    "\n",
    "        mamba_token_length_list.append(seq_length)\n",
    "        mamba_test_data.append(log_sum)"
   ]
  },
  {
   "cell_type": "code",
   "execution_count": 25,
   "id": "4a4478ad-724c-4527-9963-27309f03e45e",
   "metadata": {},
   "outputs": [
    {
     "name": "stdout",
     "output_type": "stream",
     "text": [
      "log probability sum: 2859.632\n",
      "avg tokens: 1203.145\n",
      "overlong_seq: 4\n"
     ]
    }
   ],
   "source": [
    "mamba_1b4_log_sum = sum(mamba_test_data) / len(mamba_test_data)\n",
    "mamba_1b4_avg_length = sum(mamba_token_length_list) / len(mamba_token_length_list)\n",
    "print(f'log probability sum: {mamba_1b4_log_sum}')\n",
    "print(f'avg tokens: {mamba_1b4_avg_length}')\n",
    "print(f'overlong_seq: {overlong_seq}')"
   ]
  },
  {
   "cell_type": "code",
   "execution_count": 26,
   "id": "6d2711ff-6c84-4b05-881e-b83101d34722",
   "metadata": {},
   "outputs": [],
   "source": [
    "import gc\n",
    "\n",
    "del mamba_1b4, inputs, logit\n",
    "\n",
    "gc.collect()\n",
    "torch.cuda.empty_cache()"
   ]
  },
  {
   "cell_type": "markdown",
   "id": "5e651d78-4d54-4fbc-b361-25b0184b9578",
   "metadata": {},
   "source": [
    "## Mamba 2.8B"
   ]
  },
  {
   "cell_type": "code",
   "execution_count": 27,
   "id": "84442a0d-5aac-49a1-93be-637b1a0485e3",
   "metadata": {
    "tags": []
   },
   "outputs": [
    {
     "name": "stderr",
     "output_type": "stream",
     "text": [
      "Special tokens have been added in the vocabulary, make sure the associated word embeddings are fine-tuned or trained.\n"
     ]
    }
   ],
   "source": [
    "from transformers import AutoTokenizer, AutoModelForCausalLM\n",
    "\n",
    "from mamba_ssm.models.mixer_seq_simple import MambaLMHeadModel\n",
    "\n",
    "device = \"cuda\"\n",
    "\n",
    "mamba_tokenizer = AutoTokenizer.from_pretrained(\"EleutherAI/gpt-neox-20b\")\n",
    "mamba_2b8 = MambaLMHeadModel.from_pretrained(\"state-spaces/mamba-2.8b\", device=device, dtype=torch.float16)"
   ]
  },
  {
   "cell_type": "code",
   "execution_count": 28,
   "id": "246cb22d-5709-433f-a60d-6d179c8611dd",
   "metadata": {
    "tags": []
   },
   "outputs": [],
   "source": [
    "max_length = 2048\n",
    "truncation_length = 4096"
   ]
  },
  {
   "cell_type": "code",
   "execution_count": 29,
   "id": "b522805a-7135-4830-a0e8-8524d53d6b04",
   "metadata": {
    "scrolled": true,
    "tags": []
   },
   "outputs": [
    {
     "data": {
      "application/json": {
       "ascii": false,
       "bar_format": null,
       "colour": null,
       "elapsed": 0.009051322937011719,
       "initial": 0,
       "n": 0,
       "ncols": null,
       "nrows": null,
       "postfix": null,
       "prefix": "",
       "rate": null,
       "total": 1000,
       "unit": "it",
       "unit_divisor": 1000,
       "unit_scale": false
      },
      "application/vnd.jupyter.widget-view+json": {
       "model_id": "93cf347b71fe49efb01319948adc276e",
       "version_major": 2,
       "version_minor": 0
      },
      "text/plain": [
       "  0%|          | 0/1000 [00:00<?, ?it/s]"
      ]
     },
     "metadata": {},
     "output_type": "display_data"
    },
    {
     "name": "stderr",
     "output_type": "stream",
     "text": [
      "/tmp/ipykernel_11145/4042484439.py:19: UserWarning: seq-494 length 6119 > truncation_length(2048) truncated\n",
      "  warnings.warn(f'seq-{idx} length {seq_length} > truncation_length({max_length}) truncated')\n"
     ]
    }
   ],
   "source": [
    "mamba_test_data = []\n",
    "mamba_token_length_list = []\n",
    "overlong_seq = 0\n",
    "\n",
    "for idx, sample in tqdm(enumerate(extracted_texts), total=len(extracted_texts)):\n",
    "    \n",
    "    with torch.no_grad():\n",
    "        \n",
    "        inputs = mamba_tokenizer(sample, return_tensors=\"pt\").input_ids.to(device=device)\n",
    "\n",
    "        seq_length = inputs.shape[-1]\n",
    "\n",
    "        if seq_length > max_length:\n",
    "            # print(f'length > {max_length}')\n",
    "            overlong_seq += 1\n",
    "            # warnings.warn(f'seq-{idx} length {seq_length} > truncation_length({max_length})')\n",
    "        if seq_length > truncation_length:\n",
    "            inputs = mamba_tokenizer(sample, return_tensors=\"pt\", max_length=4096, truncation=True).input_ids.to(device=device)\n",
    "            warnings.warn(f'seq-{idx} length {seq_length} > truncation_length({max_length}) truncated')\n",
    "\n",
    "        mamba_output = mamba_2b8.forward(inputs)\n",
    "        logit = mamba_output.logits[0, :, :]\n",
    "\n",
    "        log_sum = calculate_log_sum(logit, inputs[0])\n",
    "\n",
    "        mamba_token_length_list.append(seq_length)\n",
    "        mamba_test_data.append(log_sum)"
   ]
  },
  {
   "cell_type": "code",
   "execution_count": 30,
   "id": "12612a2b-7400-4c30-a263-86a0c7afa03b",
   "metadata": {
    "tags": []
   },
   "outputs": [
    {
     "name": "stdout",
     "output_type": "stream",
     "text": [
      "log probability sum: 2728.718\n",
      "avg tokens: 1203.145\n",
      "overlong_seq: 4\n"
     ]
    }
   ],
   "source": [
    "mamba_2b8_log_sum = sum(mamba_test_data) / len(mamba_test_data)\n",
    "mamba_2b8_avg_length = sum(mamba_token_length_list) / len(mamba_token_length_list)\n",
    "print(f'log probability sum: {mamba_2b8_log_sum}')\n",
    "print(f'avg tokens: {mamba_2b8_avg_length}')\n",
    "print(f'overlong_seq: {overlong_seq}')"
   ]
  },
  {
   "cell_type": "code",
   "execution_count": 31,
   "id": "76e82adb-03c7-4862-a2f4-231b1551c53b",
   "metadata": {
    "tags": []
   },
   "outputs": [],
   "source": [
    "import gc\n",
    "\n",
    "del mamba_2b8, inputs, logit\n",
    "\n",
    "gc.collect()\n",
    "torch.cuda.empty_cache()"
   ]
  },
  {
   "cell_type": "markdown",
   "id": "ebd4048c-1506-47ab-872f-6abb9c8f3253",
   "metadata": {
    "tags": []
   },
   "source": [
    "## RWKV-5 3B"
   ]
  },
  {
   "cell_type": "code",
   "execution_count": 32,
   "id": "7161bf5f-02b6-4a0c-bf3a-213f9686af80",
   "metadata": {
    "tags": []
   },
   "outputs": [],
   "source": [
    "os.environ['RWKV_JIT_ON'] = '1'\n",
    "os.environ[\"RWKV_CUDA_ON\"] = '1'\n",
    "\n",
    "from rwkv.model import RWKV\n",
    "from rwkv.utils import PIPELINE"
   ]
  },
  {
   "cell_type": "code",
   "execution_count": 33,
   "id": "51ee17d9-c0be-4d06-a054-4941c06343c8",
   "metadata": {
    "scrolled": true,
    "tags": []
   },
   "outputs": [
    {
     "name": "stdout",
     "output_type": "stream",
     "text": [
      "RWKV_JIT_ON 1 RWKV_CUDA_ON 1 RESCALE_LAYER 6\n",
      "\n",
      "Loading ./models/models--BlinkDL--rwkv-5-world/snapshots/54a28319ff63b17f933975a58ab66010ba534fc0/RWKV-5-World-3B-v2-20231113-ctx4096.pth ...\n",
      "Model detected: v5.2\n",
      "Strategy: (total 32+1=33 layers)\n",
      "* cuda [float16, float16], store 33 layers\n",
      "0-cuda-float16-float16 1-cuda-float16-float16 2-cuda-float16-float16 3-cuda-float16-float16 4-cuda-float16-float16 5-cuda-float16-float16 6-cuda-float16-float16 7-cuda-float16-float16 8-cuda-float16-float16 9-cuda-float16-float16 10-cuda-float16-float16 11-cuda-float16-float16 12-cuda-float16-float16 13-cuda-float16-float16 14-cuda-float16-float16 15-cuda-float16-float16 16-cuda-float16-float16 17-cuda-float16-float16 18-cuda-float16-float16 19-cuda-float16-float16 20-cuda-float16-float16 21-cuda-float16-float16 22-cuda-float16-float16 23-cuda-float16-float16 24-cuda-float16-float16 25-cuda-float16-float16 26-cuda-float16-float16 27-cuda-float16-float16 28-cuda-float16-float16 29-cuda-float16-float16 30-cuda-float16-float16 31-cuda-float16-float16 32-cuda-float16-float16 \n",
      "emb.weight                        f16      cpu  65536  2560 \n",
      "blocks.0.ln1.weight               f16   cuda:0   2560       \n",
      "blocks.0.ln1.bias                 f16   cuda:0   2560       \n",
      "blocks.0.ln2.weight               f16   cuda:0   2560       \n",
      "blocks.0.ln2.bias                 f16   cuda:0   2560       \n",
      "blocks.0.att.time_mix_k           f16   cuda:0   2560       \n",
      "blocks.0.att.time_mix_v           f16   cuda:0   2560       \n",
      "blocks.0.att.time_mix_r           f16   cuda:0   2560       \n",
      "blocks.0.att.time_mix_g           f16   cuda:0   2560       \n",
      "blocks.0.att.time_decay           f32   cuda:0     40    64 \n",
      "blocks.0.att.time_first           f32   cuda:0     40    64 \n",
      "blocks.0.att.receptance.weight    f16   cuda:0   2560  2560 \n",
      "blocks.0.att.key.weight           f16   cuda:0   2560  2560 \n",
      "blocks.0.att.value.weight         f16   cuda:0   2560  2560 \n",
      "blocks.0.att.output.weight        f16   cuda:0   2560  2560 \n",
      "blocks.0.att.gate.weight          f16   cuda:0   2560  2560 \n",
      "blocks.0.att.ln_x.weight          f32   cuda:0   2560       \n",
      "blocks.0.att.ln_x.bias            f32   cuda:0   2560       \n",
      "blocks.0.ffn.time_mix_k           f16   cuda:0   2560       \n",
      "blocks.0.ffn.time_mix_r           f16   cuda:0   2560       \n",
      "blocks.0.ffn.key.weight           f16   cuda:0   2560  8960 \n",
      "blocks.0.ffn.receptance.weight    f16   cuda:0   2560  2560 \n",
      "blocks.0.ffn.value.weight         f16   cuda:0   8960  2560 \n",
      "....................................................................................................................................................................................................................................................................................................................................................................................................................................................................................................................................................................................................................................................................................\n",
      "blocks.31.ln1.weight              f16   cuda:0   2560       \n",
      "blocks.31.ln1.bias                f16   cuda:0   2560       \n",
      "blocks.31.ln2.weight              f16   cuda:0   2560       \n",
      "blocks.31.ln2.bias                f16   cuda:0   2560       \n",
      "blocks.31.att.time_mix_k          f16   cuda:0   2560       \n",
      "blocks.31.att.time_mix_v          f16   cuda:0   2560       \n",
      "blocks.31.att.time_mix_r          f16   cuda:0   2560       \n",
      "blocks.31.att.time_mix_g          f16   cuda:0   2560       \n",
      "blocks.31.att.time_decay          f32   cuda:0     40    64 \n",
      "blocks.31.att.time_first          f32   cuda:0     40    64 \n",
      "blocks.31.att.receptance.weight   f16   cuda:0   2560  2560 \n",
      "blocks.31.att.key.weight          f16   cuda:0   2560  2560 \n",
      "blocks.31.att.value.weight        f16   cuda:0   2560  2560 \n",
      "blocks.31.att.output.weight       f16   cuda:0   2560  2560 \n",
      "blocks.31.att.gate.weight         f16   cuda:0   2560  2560 \n",
      "blocks.31.att.ln_x.weight         f32   cuda:0   2560       \n",
      "blocks.31.att.ln_x.bias           f32   cuda:0   2560       \n",
      "blocks.31.ffn.time_mix_k          f16   cuda:0   2560       \n",
      "blocks.31.ffn.time_mix_r          f16   cuda:0   2560       \n",
      "blocks.31.ffn.key.weight          f16   cuda:0   2560  8960 \n",
      "blocks.31.ffn.receptance.weight   f16   cuda:0   2560  2560 \n",
      "blocks.31.ffn.value.weight        f16   cuda:0   8960  2560 \n",
      "ln_out.weight                     f16   cuda:0   2560       \n",
      "ln_out.bias                       f16   cuda:0   2560       \n",
      "head.weight                       f16   cuda:0   2560 65536 \n"
     ]
    },
    {
     "name": "stderr",
     "output_type": "stream",
     "text": [
      "Using /root/.cache/torch_extensions/py38_cu118 as PyTorch extensions root...\n",
      "No modifications detected for re-loaded extension module rwkv5, skipping build step...\n",
      "Loading extension module rwkv5...\n"
     ]
    }
   ],
   "source": [
    "rwkv5_3b_path = r'./models/models--BlinkDL--rwkv-5-world/snapshots/54a28319ff63b17f933975a58ab66010ba534fc0/RWKV-5-World-3B-v2-20231113-ctx4096.pth'\n",
    "\n",
    "rwkv5_3b = RWKV(model=rwkv5_3b_path, strategy='cuda fp16')\n",
    "pipeline = PIPELINE(rwkv5_3b, r\"rwkv_vocab_v20230424\")\n",
    "rwkv_tokenizer = pipeline.tokenizer"
   ]
  },
  {
   "cell_type": "code",
   "execution_count": 34,
   "id": "9231f238-eb15-481d-a789-1ca0dc8527cd",
   "metadata": {
    "tags": []
   },
   "outputs": [],
   "source": [
    "max_length = 4096"
   ]
  },
  {
   "cell_type": "code",
   "execution_count": 35,
   "id": "c6a8d3fb-12a8-4d6f-a98f-90107bbf0a68",
   "metadata": {
    "scrolled": true,
    "tags": []
   },
   "outputs": [
    {
     "data": {
      "application/json": {
       "ascii": false,
       "bar_format": null,
       "colour": null,
       "elapsed": 0.009706497192382812,
       "initial": 0,
       "n": 0,
       "ncols": null,
       "nrows": null,
       "postfix": null,
       "prefix": "",
       "rate": null,
       "total": 1000,
       "unit": "it",
       "unit_divisor": 1000,
       "unit_scale": false
      },
      "application/vnd.jupyter.widget-view+json": {
       "model_id": "43afc786d0a14e58bc048448d2dbd178",
       "version_major": 2,
       "version_minor": 0
      },
      "text/plain": [
       "  0%|          | 0/1000 [00:00<?, ?it/s]"
      ]
     },
     "metadata": {},
     "output_type": "display_data"
    },
    {
     "name": "stderr",
     "output_type": "stream",
     "text": [
      "/tmp/ipykernel_11145/2951203530.py:14: UserWarning: seq-494 length > 4096\n",
      "  warnings.warn(f'seq-{idx} length > {max_length}')\n"
     ]
    }
   ],
   "source": [
    "rwkv_test_data = []\n",
    "rwkv_token_length_list = []\n",
    "overlong_seq = 0\n",
    "\n",
    "for idx, sample in tqdm(enumerate(extracted_texts), total=len(extracted_texts)):\n",
    "    \n",
    "    with torch.no_grad():\n",
    "        \n",
    "        input_seq = rwkv_tokenizer.encode(sample)\n",
    "\n",
    "        if len(input_seq) > max_length:\n",
    "            # print(f'length > {max_length}')\n",
    "            overlong_seq += 1\n",
    "            warnings.warn(f'seq-{idx} length > {max_length}')\n",
    "            # input_seq = input_seq[:max_length]\n",
    "\n",
    "        logit = rwkv5_3b.forward(input_seq, None, full_output=True)[0]\n",
    "\n",
    "        log_sum = calculate_log_sum(logit, torch.tensor(input_seq).cuda())\n",
    "\n",
    "        rwkv_token_length_list.append(len(input_seq))\n",
    "        rwkv_test_data.append(log_sum)"
   ]
  },
  {
   "cell_type": "code",
   "execution_count": 36,
   "id": "61c4c944-cdc3-4693-bbf9-eaf6f06df2f7",
   "metadata": {
    "tags": []
   },
   "outputs": [
    {
     "name": "stdout",
     "output_type": "stream",
     "text": [
      "log probability sum: 2585.3745444335937\n",
      "avg tokens: 1194.052\n",
      "overlong_seq: 1\n"
     ]
    }
   ],
   "source": [
    "print(f'log probability sum: {sum(rwkv_test_data) / len(rwkv_test_data)}')\n",
    "print(f'avg tokens: {sum(rwkv_token_length_list) / len(rwkv_token_length_list)}')\n",
    "print(f'overlong_seq: {overlong_seq}')"
   ]
  },
  {
   "cell_type": "code",
   "execution_count": 37,
   "id": "ce045440-2683-4a7a-9841-f9c8ff1a32c3",
   "metadata": {
    "tags": []
   },
   "outputs": [],
   "source": [
    "import gc\n",
    "\n",
    "del rwkv5_3b\n",
    "del pipeline, rwkv_tokenizer, logit\n",
    "\n",
    "gc.collect()\n",
    "torch.cuda.empty_cache()"
   ]
  },
  {
   "cell_type": "markdown",
   "id": "756d000b-9b45-40c9-826d-86c84fd7361e",
   "metadata": {},
   "source": [
    "## StableLM-3B-4E1T"
   ]
  },
  {
   "cell_type": "code",
   "execution_count": 38,
   "id": "86fd2db3-ab44-421d-9c69-89264c13aec8",
   "metadata": {
    "tags": []
   },
   "outputs": [
    {
     "name": "stderr",
     "output_type": "stream",
     "text": [
      "Special tokens have been added in the vocabulary, make sure the associated word embeddings are fine-tuned or trained.\n"
     ]
    }
   ],
   "source": [
    "from transformers import AutoTokenizer, AutoModelForCausalLM\n",
    "import transformers\n",
    "import torch\n",
    "import gc\n",
    "\n",
    "stable_lm_3b_path = r\"./models/models--stabilityai--stablelm-3b-4e1t/snapshots/c6554ba60f40a8252d2a43e38e55ee2e3a645813/\"\n",
    "\n",
    "stable_lm_tokenizer = AutoTokenizer.from_pretrained(stable_lm_3b_path)\n",
    "stable_lm_3b = AutoModelForCausalLM.from_pretrained(stable_lm_3b_path, device_map=\"auto\", trust_remote_code=True).eval()"
   ]
  },
  {
   "cell_type": "code",
   "execution_count": 39,
   "id": "59159b23-1d17-4781-9f87-7dcbb9306e9a",
   "metadata": {
    "tags": []
   },
   "outputs": [],
   "source": [
    "max_length = 4096\n",
    "truncation_length = 4096"
   ]
  },
  {
   "cell_type": "code",
   "execution_count": 40,
   "id": "5663d8c3-25a8-46bd-ac01-790579443df4",
   "metadata": {
    "scrolled": true,
    "tags": []
   },
   "outputs": [
    {
     "data": {
      "application/json": {
       "ascii": false,
       "bar_format": null,
       "colour": null,
       "elapsed": 0.015801429748535156,
       "initial": 0,
       "n": 0,
       "ncols": null,
       "nrows": null,
       "postfix": null,
       "prefix": "",
       "rate": null,
       "total": 1000,
       "unit": "it",
       "unit_divisor": 1000,
       "unit_scale": false
      },
      "application/vnd.jupyter.widget-view+json": {
       "model_id": "e7493214f0f047f580d31cd4bffeeb9f",
       "version_major": 2,
       "version_minor": 0
      },
      "text/plain": [
       "  0%|          | 0/1000 [00:00<?, ?it/s]"
      ]
     },
     "metadata": {},
     "output_type": "display_data"
    },
    {
     "name": "stderr",
     "output_type": "stream",
     "text": [
      "/tmp/ipykernel_11145/3890670133.py:20: UserWarning: seq-494 length 6119 > truncation_length(4096) truncated\n",
      "  warnings.warn(f'seq-{idx} length {seq_length} > truncation_length({max_length}) truncated')\n"
     ]
    }
   ],
   "source": [
    "stablelm_test_data = []\n",
    "stablelm_token_length_list = []\n",
    "overlong_seq = 0\n",
    "\n",
    "for idx, sample in tqdm(enumerate(extracted_texts), total=len(extracted_texts)):\n",
    "    \n",
    "    with torch.no_grad():\n",
    "    \n",
    "        inputs = stable_lm_tokenizer(sample, return_tensors='pt')\n",
    "        inputs = inputs.to(stable_lm_3b.device)\n",
    "\n",
    "        seq_length = inputs['input_ids'].shape[-1]\n",
    "        \n",
    "        if seq_length > max_length:\n",
    "            overlong_seq += 1\n",
    "            # warnings.warn(f'seq-{idx} length {seq_length} > max_length({max_length})')\n",
    "        if seq_length > truncation_length:\n",
    "            inputs = stable_lm_tokenizer(sample, return_tensors='pt', max_length=truncation_length, truncation=True)\n",
    "            inputs = inputs.to(stable_lm_3b.device)\n",
    "            warnings.warn(f'seq-{idx} length {seq_length} > truncation_length({max_length}) truncated')\n",
    "            # print(inputs['input_ids'].shape[-1])\n",
    "\n",
    "        logit = stable_lm_3b.forward(**inputs).logits[0, :, :]\n",
    "\n",
    "        log_sum = calculate_log_sum(logit, inputs['input_ids'].squeeze(0))\n",
    "\n",
    "        stablelm_token_length_list.append(seq_length)\n",
    "        stablelm_test_data.append(log_sum)"
   ]
  },
  {
   "cell_type": "code",
   "execution_count": 41,
   "id": "385834d7-f39c-45ec-b8c1-646f7c8a8115",
   "metadata": {},
   "outputs": [
    {
     "name": "stdout",
     "output_type": "stream",
     "text": [
      "log probability sum: 2529.696282836914\n",
      "avg tokens: 1203.145\n",
      "overlong_seq: 1\n"
     ]
    }
   ],
   "source": [
    "print(f'log probability sum: {sum(stablelm_test_data) / len(stablelm_test_data)}')\n",
    "print(f'avg tokens: {sum(stablelm_token_length_list) / len(stablelm_token_length_list)}')\n",
    "print(f'overlong_seq: {overlong_seq}')"
   ]
  },
  {
   "cell_type": "code",
   "execution_count": 42,
   "id": "f3f6d574-e20d-46f9-9b19-59a839a3cc89",
   "metadata": {
    "tags": []
   },
   "outputs": [],
   "source": [
    "import gc\n",
    "\n",
    "del stable_lm_3b\n",
    "del stable_lm_tokenizer, logit, inputs\n",
    "\n",
    "gc.collect()\n",
    "torch.cuda.empty_cache()"
   ]
  },
  {
   "cell_type": "markdown",
   "id": "21686786-db4f-4ef0-b909-53bf74ff37ea",
   "metadata": {},
   "source": [
    "## Phi-2"
   ]
  },
  {
   "cell_type": "code",
   "execution_count": 43,
   "id": "006ce54c-fed2-4184-b8a1-b8b3b3ac71f7",
   "metadata": {
    "tags": []
   },
   "outputs": [
    {
     "name": "stderr",
     "output_type": "stream",
     "text": [
      "Special tokens have been added in the vocabulary, make sure the associated word embeddings are fine-tuned or trained.\n"
     ]
    },
    {
     "data": {
      "application/json": {
       "ascii": false,
       "bar_format": null,
       "colour": null,
       "elapsed": 0.006051778793334961,
       "initial": 0,
       "n": 0,
       "ncols": null,
       "nrows": null,
       "postfix": null,
       "prefix": "Loading checkpoint shards",
       "rate": null,
       "total": 2,
       "unit": "it",
       "unit_divisor": 1000,
       "unit_scale": false
      },
      "application/vnd.jupyter.widget-view+json": {
       "model_id": "5a2ba6804a574db0a304cd82563fe046",
       "version_major": 2,
       "version_minor": 0
      },
      "text/plain": [
       "Loading checkpoint shards:   0%|          | 0/2 [00:00<?, ?it/s]"
      ]
     },
     "metadata": {},
     "output_type": "display_data"
    }
   ],
   "source": [
    "from transformers import AutoTokenizer, AutoModelForCausalLM\n",
    "import transformers\n",
    "import torch\n",
    "import gc\n",
    "\n",
    "phi2_path = r\"./models/models--microsoft--phi-2/snapshots/d3186761bf5c4409f7679359284066c25ab668ee/\"\n",
    "\n",
    "phi2_tokenizer = AutoTokenizer.from_pretrained(phi2_path)\n",
    "phi2 = AutoModelForCausalLM.from_pretrained(phi2_path, device_map=\"auto\", trust_remote_code=True).eval()"
   ]
  },
  {
   "cell_type": "code",
   "execution_count": 44,
   "id": "29c96ccc-6ebe-4370-bc28-8cf43d723308",
   "metadata": {
    "tags": []
   },
   "outputs": [],
   "source": [
    "max_length = 2048\n",
    "truncation_length = 4096"
   ]
  },
  {
   "cell_type": "code",
   "execution_count": 45,
   "id": "610b504f-5b87-49c9-b2fa-d02f54fd1d03",
   "metadata": {
    "scrolled": true,
    "tags": []
   },
   "outputs": [
    {
     "data": {
      "application/json": {
       "ascii": false,
       "bar_format": null,
       "colour": null,
       "elapsed": 0.007810115814208984,
       "initial": 0,
       "n": 0,
       "ncols": null,
       "nrows": null,
       "postfix": null,
       "prefix": "",
       "rate": null,
       "total": 1000,
       "unit": "it",
       "unit_divisor": 1000,
       "unit_scale": false
      },
      "application/vnd.jupyter.widget-view+json": {
       "model_id": "17c9a5bc798040b197365367d271c1a2",
       "version_major": 2,
       "version_minor": 0
      },
      "text/plain": [
       "  0%|          | 0/1000 [00:00<?, ?it/s]"
      ]
     },
     "metadata": {},
     "output_type": "display_data"
    },
    {
     "name": "stderr",
     "output_type": "stream",
     "text": [
      "Token indices sequence length is longer than the specified maximum sequence length for this model (5185 > 2048). Running this sequence through the model will result in indexing errors\n",
      "/tmp/ipykernel_11145/4033256481.py:22: UserWarning: seq-409 length 5185 > truncation_length(2048) truncated\n",
      "  warnings.warn(f'seq-{idx} length {seq_length} > truncation_length({max_length}) truncated')\n",
      "/tmp/ipykernel_11145/4033256481.py:22: UserWarning: seq-494 length 8666 > truncation_length(2048) truncated\n",
      "  warnings.warn(f'seq-{idx} length {seq_length} > truncation_length({max_length}) truncated')\n"
     ]
    }
   ],
   "source": [
    "phi_test_data = []\n",
    "phi_token_length_list = []\n",
    "overlong_seq = 0\n",
    "\n",
    "for idx, sample in tqdm(enumerate(extracted_texts), total=len(extracted_texts)):\n",
    "    \n",
    "    with torch.no_grad():\n",
    "    \n",
    "        inputs = phi2_tokenizer(sample, return_tensors='pt')\n",
    "        inputs = inputs.to(phi2.device)\n",
    "\n",
    "        seq_length = inputs['input_ids'].shape[-1]\n",
    "\n",
    "        if seq_length > max_length:\n",
    "            # print(f'length > {max_length}')\n",
    "            # inputs = qwen_tokenizer(sample, return_tensors='pt', truncation=True)\n",
    "            overlong_seq += 1\n",
    "            # warnings.warn(f'seq-{idx} length > {max_length}')\n",
    "        if seq_length > truncation_length:\n",
    "            inputs = phi2_tokenizer(sample, return_tensors='pt', max_length=truncation_length, truncation=True)\n",
    "            inputs = inputs.to(phi2.device)\n",
    "            warnings.warn(f'seq-{idx} length {seq_length} > truncation_length({max_length}) truncated')\n",
    "            # print(inputs['input_ids'].shape[-1])\n",
    "\n",
    "        logit = phi2.forward(**inputs).logits[0, :, :]\n",
    "\n",
    "        log_sum = calculate_log_sum(logit, inputs['input_ids'].squeeze(0))\n",
    "\n",
    "        phi_token_length_list.append(seq_length)\n",
    "        phi_test_data.append(log_sum)"
   ]
  },
  {
   "cell_type": "code",
   "execution_count": 46,
   "id": "f41c191c-c4de-4a67-900e-c4943b43f046",
   "metadata": {
    "tags": []
   },
   "outputs": [
    {
     "name": "stdout",
     "output_type": "stream",
     "text": [
      "log probability sum: 2851.696897216797\n",
      "avg tokens: 1227.742\n",
      "overlong_seq: 6\n"
     ]
    }
   ],
   "source": [
    "print(f'log probability sum: {sum(phi_test_data) / len(phi_test_data)}')\n",
    "print(f'avg tokens: {sum(phi_token_length_list) / len(phi_token_length_list)}')\n",
    "print(f'overlong_seq: {overlong_seq}')"
   ]
  },
  {
   "cell_type": "code",
   "execution_count": 47,
   "id": "91b8c6ff-0bbb-4e68-83d2-613c3bfaa9da",
   "metadata": {
    "tags": []
   },
   "outputs": [],
   "source": [
    "import gc\n",
    "\n",
    "del phi2\n",
    "del phi2_tokenizer, logit, inputs\n",
    "\n",
    "gc.collect()\n",
    "torch.cuda.empty_cache()"
   ]
  },
  {
   "cell_type": "code",
   "execution_count": null,
   "id": "46b8b730-5c09-4c50-841c-ef869591d769",
   "metadata": {},
   "outputs": [],
   "source": []
  }
 ],
 "metadata": {
  "kernelspec": {
   "display_name": "Python 3 (ipykernel)",
   "language": "python",
   "name": "python3"
  },
  "language_info": {
   "codemirror_mode": {
    "name": "ipython",
    "version": 3
   },
   "file_extension": ".py",
   "mimetype": "text/x-python",
   "name": "python",
   "nbconvert_exporter": "python",
   "pygments_lexer": "ipython3",
   "version": "3.9.13"
  }
 },
 "nbformat": 4,
 "nbformat_minor": 5
}
